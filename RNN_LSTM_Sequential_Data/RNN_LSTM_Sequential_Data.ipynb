{
  "nbformat": 4,
  "nbformat_minor": 0,
  "metadata": {
    "colab": {
      "name": "LAB_4_Sequential_Data.ipynb",
      "provenance": [],
      "collapsed_sections": []
    },
    "kernelspec": {
      "name": "python3",
      "display_name": "Python 3"
    },
    "language_info": {
      "name": "python"
    },
    "accelerator": "GPU"
  },
  "cells": [
    {
      "cell_type": "markdown",
      "metadata": {
        "id": "_bphECiUa9zw"
      },
      "source": [
        "# Lab 4: Sequential Data\n",
        "\n",
        "This lab is based on an assignment developed by Prof. Lisa Zhang.\n",
        "\n",
        "In this assignment, we will build a recurrent neural network to classify a SMS text message\n",
        "as \"spam\" or \"not spam\". In the process, you will\n",
        "    \n",
        "1. Clean and process text data for machine learning.\n",
        "2. Understand and implement a character-level recurrent neural network.\n",
        "3. Use torchtext to build recurrent neural network models.\n",
        "4. Understand batching for a recurrent neural network, and use torchtext to implement RNN batching.\n",
        "5. Understand how transfer learning can be applied to NLP projects.\n",
        "\n",
        "### What to submit\n",
        "\n",
        "Submit an HTML file containing all your code, outputs, and write-up\n",
        "from parts A and B. You can produce a HTML file directly from Google Colab. The Colab instructions are provided at the end of this document.\n",
        "\n",
        "**Do not submit any other files produced by your code.**\n",
        "\n",
        "Include a link to your colab file in your submission.\n",
        "\n",
        "Please use Google Colab to complete this assignment. If you want to use Jupyter Notebook, please complete the assignment and upload your Jupyter Notebook file to Google Colab for submission. "
      ]
    },
    {
      "cell_type": "markdown",
      "metadata": {
        "id": "rWiUqJJTa9z6"
      },
      "source": [
        "## Colab Link\n",
        "\n",
        "Include a link to your colab file here\n",
        "\n",
        "Colab Link: https://colab.research.google.com/drive/18gyrKh81dk43EUh5adXq-VOI2klXf9z4?usp=sharing"
      ]
    },
    {
      "cell_type": "markdown",
      "metadata": {
        "id": "fFMdtipUPNdu"
      },
      "source": [
        "# PART A - Spam Detection [30 pt]\n",
        "\n",
        "In this part we will construct a LSTM model for identifying spam from non spam messages."
      ]
    },
    {
      "cell_type": "code",
      "metadata": {
        "id": "HgfNOUaPa9z8"
      },
      "source": [
        "import torch\n",
        "import torch.nn as nn\n",
        "import torch.nn.functional as F\n",
        "import torch.optim as optim\n",
        "import numpy as np\n",
        "import pandas as pd\n",
        "import seaborn as sns\n",
        "import matplotlib.pyplot as plt\n",
        "import random\n",
        "from sklearn.metrics import accuracy_score\n",
        "from sklearn.metrics import confusion_matrix"
      ],
      "execution_count": null,
      "outputs": []
    },
    {
      "cell_type": "markdown",
      "metadata": {
        "id": "M0jLI9LBa90C"
      },
      "source": [
        "## Part 1. Data Cleaning [10 pt]\n",
        "\n",
        "We will be using the \"SMS Spam Collection Data Set\" available at http://archive.ics.uci.edu/ml/datasets/SMS+Spam+Collection\n",
        "\n",
        "There is a link to download the \"Data Folder\" at the very top of the webpage. Download the zip file, unzip it, and upload the file `SMSSpamCollection` to Colab.    "
      ]
    },
    {
      "cell_type": "markdown",
      "metadata": {
        "id": "sSuF7C_Ga90E"
      },
      "source": [
        "### Part (a) [1 pt]\n",
        "\n",
        "Open up the file in Python, and print out one example of a spam SMS, and one example of a non-spam SMS.\n",
        "\n",
        "What is the label value for a spam message, and what is the label value for a non-spam message?"
      ]
    },
    {
      "cell_type": "code",
      "metadata": {
        "id": "wgRm-KiQLTlN"
      },
      "source": [
        "file_dir = '/content/SMSSpamCollection'"
      ],
      "execution_count": null,
      "outputs": []
    },
    {
      "cell_type": "code",
      "metadata": {
        "colab": {
          "base_uri": "https://localhost:8080/"
        },
        "id": "L7DR9_DfNYyc",
        "outputId": "3195e293-dfa6-40bc-d237-1a07c704e726"
      },
      "source": [
        "f = open(file_dir)\n",
        "print(f.readline())\n",
        "print(f.readline())\n",
        "print(f.readline())\n",
        "print(f.readline())\n",
        "print(f.readline())"
      ],
      "execution_count": null,
      "outputs": [
        {
          "output_type": "stream",
          "name": "stdout",
          "text": [
            "ham\tGo until jurong point, crazy.. Available only in bugis n great world la e buffet... Cine there got amore wat...\n",
            "\n",
            "ham\tOk lar... Joking wif u oni...\n",
            "\n",
            "spam\tFree entry in 2 a wkly comp to win FA Cup final tkts 21st May 2005. Text FA to 87121 to receive entry question(std txt rate)T&C's apply 08452810075over18's\n",
            "\n",
            "ham\tU dun say so early hor... U c already then say...\n",
            "\n",
            "ham\tNah I don't think he goes to usf, he lives around here though\n",
            "\n"
          ]
        }
      ]
    },
    {
      "cell_type": "code",
      "metadata": {
        "colab": {
          "base_uri": "https://localhost:8080/"
        },
        "id": "GOv9m5_LNO-C",
        "outputId": "7d3ee006-6e8d-4e75-afe1-b4341ce36a5e"
      },
      "source": [
        "for f in open(file_dir):\n",
        "    if 'ham' in f:\n",
        "      print(f)\n",
        "      break"
      ],
      "execution_count": null,
      "outputs": [
        {
          "output_type": "stream",
          "name": "stdout",
          "text": [
            "ham\tGo until jurong point, crazy.. Available only in bugis n great world la e buffet... Cine there got amore wat...\n",
            "\n"
          ]
        }
      ]
    },
    {
      "cell_type": "code",
      "metadata": {
        "colab": {
          "base_uri": "https://localhost:8080/"
        },
        "id": "gufnSf_Kep9V",
        "outputId": "655c7c40-3aba-4700-ef68-9a2a12324bbd"
      },
      "source": [
        "for f in open(file_dir):\n",
        "    if 'spam' in f:\n",
        "      print(f)\n",
        "      break"
      ],
      "execution_count": null,
      "outputs": [
        {
          "output_type": "stream",
          "name": "stdout",
          "text": [
            "spam\tFree entry in 2 a wkly comp to win FA Cup final tkts 21st May 2005. Text FA to 87121 to receive entry question(std txt rate)T&C's apply 08452810075over18's\n",
            "\n"
          ]
        }
      ]
    },
    {
      "cell_type": "markdown",
      "metadata": {
        "id": "1LlLcVY0UlH1"
      },
      "source": [
        "Label value for spam message : spam\n",
        "\n",
        "Label value for non-spam messages : ham"
      ]
    },
    {
      "cell_type": "markdown",
      "metadata": {
        "id": "AukA6vMVa90d"
      },
      "source": [
        "### Part (b) [1 pt]\n",
        "\n",
        "How many spam messages are there in the data set?\n",
        "How many non-spam messages are there in the data set?\n"
      ]
    },
    {
      "cell_type": "code",
      "metadata": {
        "colab": {
          "base_uri": "https://localhost:8080/"
        },
        "id": "w5XhYbn0N-yT",
        "outputId": "c1c22706-e370-4fd5-949c-603fcfe5d058"
      },
      "source": [
        "# Initializing counts for ham and spam\n",
        "ham = 0\n",
        "spam = 0\n",
        "\n",
        "for f in open(file_dir):\n",
        "  if f[:3] == 'ham':\n",
        "    ham += 1\n",
        "  if f[:3] == 'spa':\n",
        "    spam += 1\n",
        "print('Total Ham Count:{}'.format(ham))\n",
        "print('Total Spam Count: {}'.format(spam))"
      ],
      "execution_count": null,
      "outputs": [
        {
          "output_type": "stream",
          "name": "stdout",
          "text": [
            "Total Ham Count:4827\n",
            "Total Spam Count: 747\n"
          ]
        }
      ]
    },
    {
      "cell_type": "markdown",
      "metadata": {
        "id": "d1WXxVt6a90h"
      },
      "source": [
        "### Part (c) [2 pt]\n",
        "\n",
        "We will be using the package `torchtext` to load, process, and batch the data.\n",
        "A tutorial to torchtext is available below. This tutorial uses the same\n",
        "Sentiment140 data set that we explored during lecture.\n",
        "\n",
        "https://medium.com/@sonicboom8/sentiment-analysis-torchtext-55fb57b1fab8\n",
        "\n",
        "Unlike what we did during lecture, we will be building a **character level RNN**.\n",
        "That is, we will treat each **character** as a token in our sequence,\n",
        "rather than each **word**.\n",
        "\n",
        "Identify two advantage and two disadvantage of modelling SMS text\n",
        "messages as a sequence of characters rather than a sequence of words."
      ]
    },
    {
      "cell_type": "markdown",
      "metadata": {
        "id": "2lkVFJpUWifb"
      },
      "source": [
        "Advantages:\n",
        "\n",
        "1. Since, SMS language does not follow any specific pattern of english language, similar example is tweets with random words, emoji, alphanumeric context etc. So, its become more important to generate or predict text on character level.\n",
        "\n",
        "2. Due to limitation in the character types wrt numbers as comapared to words, its easy to process inputs.\n"
      ]
    },
    {
      "cell_type": "markdown",
      "metadata": {
        "id": "_v82Lj4TWiU8"
      },
      "source": [
        "Disadvantages:\n",
        "\n",
        "1. There is too much randomness in training these SMS models as the SMS contains very differernt character with no specific related context. So the hot encoding embedding becomes very large & expensive to train\n",
        "\n",
        "2. Tuning becomes complex in case to generate texts with relative context\n"
      ]
    },
    {
      "cell_type": "markdown",
      "metadata": {
        "id": "ie_D0bv9a90k"
      },
      "source": [
        "### Part (d) [1 pt]\n",
        "\n",
        "We will be loading our data set using `torchtext.data.TabularDataset`. The\n",
        "constructor will read directly from the `SMSSpamCollection` file. \n",
        "\n",
        "For the data file to be read successfuly, we\n",
        "need to specify the **fields** (columns) in the file. \n",
        "In our case, the dataset has two fields: \n",
        "\n",
        "- a text field containing the sms messages,\n",
        "- a label field which will be converted into a binary label.\n",
        "\n",
        "Split the dataset into `train`, `valid`, and `test`. Use a 60-20-20 split.\n",
        "You may find this torchtext API page helpful:\n",
        "https://torchtext.readthedocs.io/en/latest/data.html#dataset\n",
        "\n",
        "Hint: There is a `Dataset` method that can perform the random split for you."
      ]
    },
    {
      "cell_type": "code",
      "metadata": {
        "id": "P_Y6Puz9a90l"
      },
      "source": [
        "import torchtext\n",
        "\n",
        "\n",
        "text_field = torchtext.legacy.data.Field(sequential=True,      # text sequence\n",
        "                                  tokenize=lambda x: x, # because are building a character-RNN\n",
        "                                  include_lengths=True, # to track the length of sequences, for batching\n",
        "                                  batch_first=True,\n",
        "                                  use_vocab=True)        # to turn each character into an integer index\n",
        "          \n",
        "                                        \n",
        "label_field = torchtext.legacy.data.Field(sequential=False,    # not a sequence\n",
        "                                   use_vocab=False,     # don't need to track vocabulary\n",
        "                                   is_target=True,      \n",
        "                                   batch_first=True,\n",
        "                                   preprocessing=lambda x: int(x == 'spam')) # convert text to 0 and 1\n",
        "\n",
        "fields = [('label', label_field), ('sms', text_field)]\n",
        "dataset = torchtext.legacy.data.TabularDataset(file_dir, # name of the file\n",
        "                                              \"tsv\",               # fields are separated by a tab\n",
        "                                              fields)\n"
      ],
      "execution_count": null,
      "outputs": []
    },
    {
      "cell_type": "code",
      "metadata": {
        "id": "5GE1ZIFTbC_a",
        "colab": {
          "base_uri": "https://localhost:8080/",
          "height": 35
        },
        "outputId": "b2320c3f-3f0b-49f3-eb48-951e3f0f62a2"
      },
      "source": [
        "dataset[2].sms"
      ],
      "execution_count": null,
      "outputs": [
        {
          "output_type": "execute_result",
          "data": {
            "application/vnd.google.colaboratory.intrinsic+json": {
              "type": "string"
            },
            "text/plain": [
              "\"Free entry in 2 a wkly comp to win FA Cup final tkts 21st May 2005. Text FA to 87121 to receive entry question(std txt rate)T&C's apply 08452810075over18's\""
            ]
          },
          "metadata": {},
          "execution_count": 8
        }
      ]
    },
    {
      "cell_type": "code",
      "metadata": {
        "id": "6xFMTXkTbDwH",
        "colab": {
          "base_uri": "https://localhost:8080/"
        },
        "outputId": "a012de6f-8f33-4c33-e973-dabe49b7a211"
      },
      "source": [
        "dataset[2].label"
      ],
      "execution_count": null,
      "outputs": [
        {
          "output_type": "execute_result",
          "data": {
            "text/plain": [
              "1"
            ]
          },
          "metadata": {},
          "execution_count": 9
        }
      ]
    },
    {
      "cell_type": "code",
      "metadata": {
        "id": "CLrQKL9EbCkm",
        "colab": {
          "base_uri": "https://localhost:8080/"
        },
        "outputId": "dd4e616a-5965-4a75-b451-2f70272f5523"
      },
      "source": [
        "SEED =1234\n",
        "torch.manual_seed(SEED)\n",
        "\n",
        "\n",
        "train, valid, test = dataset.split(split_ratio= [0.6,0.2,0.2],random_state= random.seed(SEED))\n",
        "len(train),len(valid),len(test)"
      ],
      "execution_count": null,
      "outputs": [
        {
          "output_type": "execute_result",
          "data": {
            "text/plain": [
              "(3343, 1115, 1114)"
            ]
          },
          "metadata": {},
          "execution_count": 10
        }
      ]
    },
    {
      "cell_type": "markdown",
      "metadata": {
        "id": "v6nP0Ks_a90o"
      },
      "source": [
        "### Part (e) [2 pt]\n",
        "\n",
        "You saw in part (b) that there are many more non-spam messages than spam messages.\n",
        "This **imbalance** in our training data will be problematic for training.\n",
        "We can fix this disparity by duplicating spam messages in the training set,\n",
        "so that the training set is roughly **balanced**.\n",
        "\n",
        "Explain why having a balanced training set is helpful for training our neural network.\n",
        "\n",
        "Note: if you are not sure, try removing the below code and train your mode."
      ]
    },
    {
      "cell_type": "code",
      "metadata": {
        "id": "FWvx9_rka90p"
      },
      "source": [
        "# save the original training examples\n",
        "old_train_examples = train.examples\n",
        "# get all the spam messages in `train`\n",
        "train_spam = []\n",
        "for item in train.examples:\n",
        "    if item.label == 1:\n",
        "        train_spam.append(item)\n",
        "# duplicate each spam message 6 more times\n",
        "train.examples = old_train_examples + train_spam * 6"
      ],
      "execution_count": null,
      "outputs": []
    },
    {
      "cell_type": "code",
      "metadata": {
        "id": "V7urpYia29Uu"
      },
      "source": [
        "# Counting the numbers of spam messages in new train.exmaples with modified multiplication\n",
        "new_train_spam = []\n",
        "for item in train.examples:\n",
        "    if item.label == 1:\n",
        "        new_train_spam.append(item)"
      ],
      "execution_count": null,
      "outputs": []
    },
    {
      "cell_type": "code",
      "metadata": {
        "id": "xq12hT0U29SC",
        "colab": {
          "base_uri": "https://localhost:8080/"
        },
        "outputId": "eb60189c-ae08-40d7-8792-15337c7a140a"
      },
      "source": [
        "len(new_train_spam),len(train.examples)"
      ],
      "execution_count": null,
      "outputs": [
        {
          "output_type": "execute_result",
          "data": {
            "text/plain": [
              "(3199, 6085)"
            ]
          },
          "metadata": {},
          "execution_count": 13
        }
      ]
    },
    {
      "cell_type": "code",
      "metadata": {
        "id": "XhXYsvFp29N9",
        "colab": {
          "base_uri": "https://localhost:8080/"
        },
        "outputId": "4d26a945-2ee0-4af3-ff64-50a829b33937"
      },
      "source": [
        "# trying to get the ratio of spam messages in modified train. example\n",
        "len(new_train_spam)/len(train.examples)"
      ],
      "execution_count": null,
      "outputs": [
        {
          "output_type": "execute_result",
          "data": {
            "text/plain": [
              "0.5257189811010682"
            ]
          },
          "metadata": {},
          "execution_count": 14
        }
      ]
    },
    {
      "cell_type": "markdown",
      "metadata": {
        "id": "9Wr-VUHO0WYe"
      },
      "source": [
        "The ratio is almost balanced with 51% spam messages in the training dataset"
      ]
    },
    {
      "cell_type": "markdown",
      "metadata": {
        "id": "CXOwO4eg5sFu"
      },
      "source": [
        "Balanced training set is always preferred for training as number of classification should have equal numbers to avoid any bias in the output prediction. If one class is more in number then the model will be better in predicting one class and it will biased for the other class."
      ]
    },
    {
      "cell_type": "markdown",
      "metadata": {
        "id": "j7eUmBEva90r"
      },
      "source": [
        "### Part (f) [1 pt]\n",
        "\n",
        "We need to build the vocabulary on the training data by running the below code.\n",
        "This finds all the possible character tokens in the training set.\n",
        "\n",
        "Explain what the variables `text_field.vocab.stoi` and `text_field.vocab.itos` represent."
      ]
    },
    {
      "cell_type": "code",
      "metadata": {
        "id": "8CQM8flKa90s"
      },
      "source": [
        "text_field.build_vocab(train)\n",
        "vocab_stoi = text_field.vocab.stoi\n",
        "#vocab_stoi"
      ],
      "execution_count": null,
      "outputs": []
    },
    {
      "cell_type": "markdown",
      "metadata": {
        "id": "Y9Lglk5c6FAh"
      },
      "source": [
        "text_field.vocab.stoi represent:  Collections of default dict instance mapping token strings to numerical identifiers"
      ]
    },
    {
      "cell_type": "code",
      "metadata": {
        "id": "naj16PkP5_rK"
      },
      "source": [
        "vocab_itos = text_field.vocab.itos\n",
        "#vocab_itos"
      ],
      "execution_count": null,
      "outputs": []
    },
    {
      "cell_type": "markdown",
      "metadata": {
        "id": "29vXN-wE6E6g"
      },
      "source": [
        "text_field.vocab.itos represent: A list of token strings indexed by their numerical identifiers"
      ]
    },
    {
      "cell_type": "code",
      "metadata": {
        "id": "WmZGqsj06E4W",
        "colab": {
          "base_uri": "https://localhost:8080/"
        },
        "outputId": "f3861b54-ac88-48a6-9243-ddc530417fce"
      },
      "source": [
        "vocab_size = len(text_field.vocab)\n",
        "vocab_size"
      ],
      "execution_count": null,
      "outputs": [
        {
          "output_type": "execute_result",
          "data": {
            "text/plain": [
              "114"
            ]
          },
          "metadata": {},
          "execution_count": 17
        }
      ]
    },
    {
      "cell_type": "markdown",
      "metadata": {
        "id": "TC8WVE8Ua90u"
      },
      "source": [
        "### Part (g) [1 pt]\n",
        "\n",
        "The tokens `<unk>` and `<pad>` were not in our SMS text messages.\n",
        "What do these two values represent?"
      ]
    },
    {
      "cell_type": "markdown",
      "metadata": {
        "id": "sURmj3pn7zhQ"
      },
      "source": [
        "\"unk\" represents : \"unknown token\" -  it is used to replace the rare words that did not fit in your vocabulary. So your sentence My name is TuhinRanjan will be translated into My name is _unk_"
      ]
    },
    {
      "cell_type": "markdown",
      "metadata": {
        "id": "vnfXgH9W7zeB"
      },
      "source": [
        "\"PAD\" represents :  GPU processes the training data in batches and all the sequences in the batch should have the same length. If the max length of the sequence is 8, the sentence My name is TuhinRanjan will be padded from either side to fit this length: My name is TuhinRanjan _pad_ _pad_ _pad_ _pad_"
      ]
    },
    {
      "cell_type": "markdown",
      "metadata": {
        "id": "Ff5CNk7Qa90y"
      },
      "source": [
        "### Part (h) [1 pt]\n",
        "\n",
        "Since text sequences are of variable length, `torchtext` provides a `BucketIterator` data loader,\n",
        "which batches similar length sequences together. The iterator also provides functionalities to\n",
        "pad sequences automatically.\n",
        "\n",
        "Take a look at 10 batches in `train_iter`. What is the maximum length of the\n",
        "input sequence in each batch? How many `<pad>` tokens are used in each of the 10\n",
        "batches?"
      ]
    },
    {
      "cell_type": "code",
      "metadata": {
        "id": "V8N8qLWOa90y"
      },
      "source": [
        "train_iter = torchtext.legacy.data.BucketIterator(train,\n",
        "                                           batch_size=32,\n",
        "                                           sort_key=lambda x: len(x.sms), # to minimize padding\n",
        "                                           sort_within_batch=True,        # sort within each batch\n",
        "                                           repeat=False)                  # repeat the iterator for many epochs"
      ],
      "execution_count": null,
      "outputs": []
    },
    {
      "cell_type": "code",
      "metadata": {
        "colab": {
          "base_uri": "https://localhost:8080/"
        },
        "id": "6wlJHVgqOfrA",
        "outputId": "45de08f0-32be-44cc-b15f-6dd97ca3f229"
      },
      "source": [
        "i = 0\n",
        "input_length = [0]*10 \n",
        "num_pads = [0]*10 \n",
        "\n",
        "for batch in train_iter:\n",
        "  if i < 10:\n",
        "    for text in batch.sms[0]:\n",
        "      input_length[i] = len(text) #max(batch.sms[1])\n",
        "      for char in text:\n",
        "        if char == text_field.vocab.stoi[\"<pad>\"]:\n",
        "          num_pads[i] += 1\n",
        "    i += 1        \n",
        "\n",
        "print('Maximum lengths of input sequence in each batch:',input_length)\n",
        "print('Number of pad tokens used in each batch:',num_pads)"
      ],
      "execution_count": null,
      "outputs": [
        {
          "output_type": "stream",
          "name": "stdout",
          "text": [
            "Maximum lengths of input sequence in each batch: [132, 76, 34, 24, 44, 153, 101, 114, 28, 146]\n",
            "Number of pad tokens used in each batch: [34, 46, 18, 12, 27, 0, 62, 6, 24, 0]\n"
          ]
        }
      ]
    },
    {
      "cell_type": "markdown",
      "metadata": {
        "id": "y7HnqP6_a904"
      },
      "source": [
        "## Part 2. Model Building [5 pt]\n",
        "\n",
        "Build a recurrent neural network model, using an architecture of your choosing. \n",
        "Use the one-hot embedding of each character as input to your recurrent network.\n",
        "Use one or more fully-connected layers to make the prediction based on your\n",
        "recurrent network output.\n",
        "\n",
        "Instead of using the RNN output value for the final token, another often used\n",
        "strategy is to max-pool over the entire output array. That is, instead of calling\n",
        "something like:\n",
        "\n",
        "```\n",
        "out, _ = self.rnn(x)\n",
        "self.fc(out[:, -1, :])\n",
        "```\n",
        "\n",
        "where `self.rnn` is an `nn.RNN`, `nn.GRU`, or `nn.LSTM` module, and `self.fc` is a \n",
        "fully-connected \n",
        "layer, we use:\n",
        "\n",
        "```\n",
        "out, _ = self.rnn(x)\n",
        "self.fc(torch.max(out, dim=1)[0])\n",
        "```\n",
        "\n",
        "This works reasonably in practice. An even better alternative is to concatenate the\n",
        "max-pooling and average-pooling of the RNN outputs:\n",
        "\n",
        "```\n",
        "out, _ = self.rnn(x)\n",
        "out = torch.cat([torch.max(out, dim=1)[0], \n",
        "                 torch.mean(out, dim=1)], dim=1)\n",
        "self.fc(out)\n",
        "```\n",
        "\n",
        "We encourage you to try out all these options. The way you pool the RNN outputs\n",
        "is one of the \"hyperparameters\" that you can choose to tune later on."
      ]
    },
    {
      "cell_type": "code",
      "metadata": {
        "id": "jHl1p_Wwa905"
      },
      "source": [
        "# You might find this code helpful for obtaining\n",
        "# PyTorch one-hot vectors.\n",
        "\n",
        "#ident = torch.eye(vocab_size)\n",
        "#print(ident[0]) # one-hot vector\n",
        "#print(ident[1]) # one-hot vector\n",
        "#x = torch.tensor([[1, 2], [3, 4]])\n",
        "#print(ident[x]) # one-hot vectors"
      ],
      "execution_count": null,
      "outputs": []
    },
    {
      "cell_type": "code",
      "metadata": {
        "id": "I4MrhpuMUGzW"
      },
      "source": [
        "class SpamRNN_1(nn.Module):\n",
        "    def __init__(self, input_size, hidden_size, num_classes):\n",
        "        super(SpamRNN_1, self).__init__()\n",
        "        self.emb = torch.eye(input_size)\n",
        "        self.hidden_size = hidden_size\n",
        "        self.num_classes = num_classes\n",
        "        self.rnn = nn.GRU(input_size, hidden_size, batch_first=True)\n",
        "        self.fc = nn.Linear(hidden_size, num_classes)\n",
        "    \n",
        "    def forward(self, x):\n",
        "        # Look up the embedding\n",
        "        x = self.emb[x]\n",
        "        # Set an initial hidden state\n",
        "        h0 = torch.zeros(1, x.size(0), self.hidden_size)\n",
        "        # Forward propagate the RNN\n",
        "        out, _ = self.rnn(x, h0)\n",
        "        # Pass the output of the last time step to the classifier\n",
        "        out = self.fc(out[:, -1, :])\n",
        "        return out\n"
      ],
      "execution_count": null,
      "outputs": []
    },
    {
      "cell_type": "code",
      "metadata": {
        "id": "Hv21c22vfE7_"
      },
      "source": [
        "class SpamRNN_2(nn.Module):\n",
        "    def __init__(self, input_size, hidden_size, num_classes):\n",
        "        super(SpamRNN_2, self).__init__()\n",
        "        self.emb = torch.eye(input_size)\n",
        "        self.hidden_size = hidden_size\n",
        "        self.num_classes = num_classes\n",
        "        self.rnn = nn.GRU(input_size, hidden_size, batch_first=True)\n",
        "        self.fc = nn.Linear(hidden_size, num_classes)\n",
        "    \n",
        "    def forward(self, x):\n",
        "        # Look up the embedding\n",
        "        x = self.emb[x]\n",
        "        # Set an initial hidden state\n",
        "        h0 = torch.zeros(1, x.size(0), self.hidden_size)\n",
        "        # Forward propagate the RNN\n",
        "        out, _ = self.rnn(x, h0)\n",
        "        # Pass the output of the last time step to the classifier\n",
        "        out = self.fc(torch.max(out, dim=1)[0])\n",
        "        return out"
      ],
      "execution_count": null,
      "outputs": []
    },
    {
      "cell_type": "code",
      "metadata": {
        "id": "FFGEE8i8fEwz"
      },
      "source": [
        "class SpamRNN_3(nn.Module):\n",
        "    def __init__(self, input_size, hidden_size, num_classes):\n",
        "        super(SpamRNN_3, self).__init__()\n",
        "        self.emb = torch.eye(input_size)\n",
        "        self.hidden_size = hidden_size\n",
        "        self.num_classes = num_classes\n",
        "        self.rnn = nn.GRU(input_size, hidden_size, batch_first=True)\n",
        "        self.fc = nn.Linear(hidden_size, num_classes)\n",
        "    \n",
        "    def forward(self, x):\n",
        "        # Look up the embedding\n",
        "        x = self.emb[x]\n",
        "        # Set an initial hidden state\n",
        "        h0 = torch.zeros(1, x.size(0), self.hidden_size)\n",
        "        # Forward propagate the RNN\n",
        "        out, _ = self.rnn(x, h0)\n",
        "        # Pass the output of the last time step to the classifier\n",
        "        out = torch.cat([torch.max(out, dim=1)[0], \n",
        "                 torch.mean(out, dim=1)], dim=1)\n",
        "        return out"
      ],
      "execution_count": null,
      "outputs": []
    },
    {
      "cell_type": "markdown",
      "metadata": {
        "id": "vKIYPl_Ba90_"
      },
      "source": [
        "## Part 3. Training [8 pt]\n",
        "\n",
        "### Part (a) [2 pt]\n",
        "\n",
        "Complete the `get_accuracy` function, which will compute the\n",
        "accuracy (rate) of your model across a dataset (e.g. validation set).\n",
        "You may modify `torchtext.data.BucketIterator` to make your computation\n",
        "faster."
      ]
    },
    {
      "cell_type": "code",
      "metadata": {
        "id": "pvNfhGD6a91A"
      },
      "source": [
        "def get_accuracy(model, data_iter):\n",
        "\n",
        "    correct, total = 0, 0\n",
        "   \n",
        "    for data in iter(data_iter):\n",
        "      output = model(data.sms[0])\n",
        "      pred = output.max(1, keepdim=True)[1]\n",
        "      correct += pred.eq(data.label.view_as(pred)).sum().item()\n",
        "      total += data.label.shape[0]\n",
        "      return correct/total*100\n"
      ],
      "execution_count": null,
      "outputs": []
    },
    {
      "cell_type": "code",
      "metadata": {
        "id": "z0DqFD7SFk71"
      },
      "source": [
        "def valid_loss(model, data_iter, batch_size):\n",
        "   n = 0\n",
        "   loss = 0\n",
        "   criterion = nn.CrossEntropyLoss()\n",
        "   for data in data_iter:\n",
        "     output = model(data.sms[0])\n",
        "     loss = criterion(output, data.label)\n",
        "     loss += loss.item()\n",
        "     n += 1\n",
        "   valid_loss = float(loss)/batch_size \n",
        "   return valid_loss"
      ],
      "execution_count": null,
      "outputs": []
    },
    {
      "cell_type": "markdown",
      "metadata": {
        "id": "TlxlcAC1a91C"
      },
      "source": [
        "### Part (b) [2 pt]\n",
        "\n",
        "Train your model. Plot the training curve of your final model. \n",
        "Your training curve should have the training/validation loss and\n",
        "accuracy plotted periodically.\n",
        "\n",
        "Note: Not all of your batches will have the same batch size.\n",
        "In particular, if your training set does not divide evenly by\n",
        "your batch size, there will be a batch that is smaller than\n",
        "the rest. "
      ]
    },
    {
      "cell_type": "code",
      "metadata": {
        "id": "tvgzH23s_3-e"
      },
      "source": [
        "def train_SpamRNN(model, train, valid, batch_size=1, num_epochs=1, lr=0.001):\n",
        "  optimizer = torch.optim.Adam(model.parameters(), lr=lr)\n",
        "  criterion = nn.CrossEntropyLoss()\n",
        "  #model.cuda()\n",
        "  \n",
        "  iters, train_losses,valid_losses, train_acc, val_acc = [], [], [], [], []\n",
        "  n = 0\n",
        "    \n",
        "  train_iter = torchtext.legacy.data.BucketIterator(train,\n",
        "                                              batch_size=batch_size,\n",
        "                                              sort_key=lambda x: len(x.sms),     \n",
        "                                              sort_within_batch=True,\n",
        "                                              repeat=False)\n",
        "  valid_iter = torchtext.legacy.data.BucketIterator(valid, \n",
        "                                              batch_size=batch_size, \n",
        "                                              sort_key=lambda x: len(x.sms), \n",
        "                                              sort_within_batch=True,\n",
        "                                              repeat=False)\n",
        "  \n",
        "  for epoch in range(num_epochs):\n",
        "    \n",
        "    for data in iter(train_iter):\n",
        "\n",
        "      # cleanup\n",
        "      optimizer.zero_grad()\n",
        "      # forward pass\n",
        "      output = model(data.sms[0])\n",
        "      loss = criterion(output, data.label)\n",
        "      # backward pass\n",
        "      loss.backward()\n",
        "      optimizer.step()\n",
        "      \n",
        "      n += 1 # increment iteration count\n",
        "\n",
        "      iters.append(n)\n",
        "\n",
        "      train_losses.append(float(loss)/batch_size) # appending the training losses\n",
        "      valid_losses.append(valid_loss(model, valid_iter, batch_size)) #appending the validation losses\n",
        "      \n",
        "      train_acc.append(get_accuracy(model,train_iter)) #appending the training accuracy\n",
        "      val_acc.append(get_accuracy(model,valid_iter)) #appending the validation accuracy\n",
        "\n",
        "\n",
        "    \n",
        "  # plotting\n",
        "  plt.title(\"Training Curve\")\n",
        "  plt.plot(iters, train_losses, label=\"Train\")\n",
        "  plt.plot(iters, valid_losses, label=\"Valid\")\n",
        "  plt.xlabel(\"Iterations\")\n",
        "  plt.ylabel(\"Loss\")\n",
        "  plt.show()\n",
        "\n",
        "  plt.title(\"Training Curve\")\n",
        "  plt.plot(iters, train_acc, label=\"Train\")\n",
        "  plt.plot(iters, val_acc, label=\"Validation\")\n",
        "  plt.xlabel(\"Iterations\")\n",
        "  plt.ylabel(\"Training Accuracy\")\n",
        "  plt.legend(loc='best')\n",
        "  plt.show()\n",
        "\n",
        "  print(\"Final Training Accuracy: {}\".format(train_acc[-1]))\n",
        "  print(\"Final Validation Accuracy: {}\".format(val_acc[-1]))"
      ],
      "execution_count": null,
      "outputs": []
    },
    {
      "cell_type": "code",
      "metadata": {
        "id": "M899gAQ0f-p5",
        "colab": {
          "base_uri": "https://localhost:8080/",
          "height": 608
        },
        "outputId": "0341a755-a1fb-4ff8-b8be-6b1d3cf35524"
      },
      "source": [
        "model1 = SpamRNN_2(vocab_size,8,2)\n",
        "train_SpamRNN(model1, train,valid, batch_size=32, num_epochs=5, lr=0.01)"
      ],
      "execution_count": null,
      "outputs": [
        {
          "output_type": "display_data",
          "data": {
            "image/png": "[encoded data removed]",
            "text/plain": [
              "<Figure size 432x288 with 1 Axes>"
            ]
          },
          "metadata": {
            "needs_background": "light"
          }
        },
        {
          "output_type": "display_data",
          "data": {
            "image/png": "[encoded data removed]",
            "text/plain": [
              "<Figure size 432x288 with 1 Axes>"
            ]
          },
          "metadata": {
            "needs_background": "light"
          }
        },
        {
          "output_type": "stream",
          "name": "stdout",
          "text": [
            "Final Training Accuracy: 100.0\n",
            "Final Validation Accuracy: 90.625\n"
          ]
        }
      ]
    },
    {
      "cell_type": "code",
      "metadata": {
        "id": "SlTG1Wqmf-lL"
      },
      "source": [
        ""
      ],
      "execution_count": null,
      "outputs": []
    },
    {
      "cell_type": "markdown",
      "metadata": {
        "id": "fE3eRkDAa91F"
      },
      "source": [
        "### Part (c) [2 pt]\n",
        "\n",
        "Choose at least 4 hyperparameters to tune. Explain how you tuned the hyperparameters.\n",
        "You don't need to include your training curve for every model you trained.\n",
        "Instead, explain what hyperparemters you tuned, what the best validation accuracy was,\n",
        "and the reasoning behind the hyperparameter decisions you made.\n",
        "\n",
        "For this assignment, you should tune more than just your learning rate and epoch. \n",
        "Choose at least 2 hyperparameters that are unrelated to the optimizer."
      ]
    },
    {
      "cell_type": "code",
      "metadata": {
        "id": "SS47voMx_33_",
        "colab": {
          "base_uri": "https://localhost:8080/",
          "height": 608
        },
        "outputId": "6e2f125f-a438-4c80-c4a7-e4d8b8e83aed"
      },
      "source": [
        "model2 = SpamRNN_1(vocab_size,16,2)\n",
        "train_SpamRNN(model2, train,valid, batch_size=64, num_epochs=5, lr=0.01)"
      ],
      "execution_count": null,
      "outputs": [
        {
          "output_type": "display_data",
          "data": {
            "image/png": "[encoded data removed]",
            "text/plain": [
              "<Figure size 432x288 with 1 Axes>"
            ]
          },
          "metadata": {
            "needs_background": "light"
          }
        },
        {
          "output_type": "display_data",
          "data": {
            "image/png": "[encoded data removed]",
            "text/plain": [
              "<Figure size 432x288 with 1 Axes>"
            ]
          },
          "metadata": {
            "needs_background": "light"
          }
        },
        {
          "output_type": "stream",
          "name": "stdout",
          "text": [
            "Final Training Accuracy: 75.0\n",
            "Final Validation Accuracy: 68.75\n"
          ]
        }
      ]
    },
    {
      "cell_type": "code",
      "metadata": {
        "id": "3b1d6I_nf-vb",
        "colab": {
          "base_uri": "https://localhost:8080/",
          "height": 608
        },
        "outputId": "5b448d86-4ee1-4b72-d921-68e3fc9a6c28"
      },
      "source": [
        "model3 = SpamRNN_2(vocab_size,16,2)\n",
        "train_SpamRNN(model3, train,valid, batch_size=64, num_epochs=5, lr=0.01)"
      ],
      "execution_count": null,
      "outputs": [
        {
          "output_type": "display_data",
          "data": {
            "image/png": "[encoded data removed]",
            "text/plain": [
              "<Figure size 432x288 with 1 Axes>"
            ]
          },
          "metadata": {
            "needs_background": "light"
          }
        },
        {
          "output_type": "display_data",
          "data": {
            "image/png": "[encoded data removed]",
            "text/plain": [
              "<Figure size 432x288 with 1 Axes>"
            ]
          },
          "metadata": {
            "needs_background": "light"
          }
        },
        {
          "output_type": "stream",
          "name": "stdout",
          "text": [
            "Final Training Accuracy: 98.4375\n",
            "Final Validation Accuracy: 93.75\n"
          ]
        }
      ]
    },
    {
      "cell_type": "code",
      "metadata": {
        "id": "B52izIkof-su",
        "colab": {
          "base_uri": "https://localhost:8080/",
          "height": 608
        },
        "outputId": "db243edb-8de7-4050-9a2d-22286cfc1894"
      },
      "source": [
        "model4 = SpamRNN_3(vocab_size,16,2)\n",
        "train_SpamRNN(model4, train,valid, batch_size=64, num_epochs=5, lr=0.01)"
      ],
      "execution_count": null,
      "outputs": [
        {
          "output_type": "display_data",
          "data": {
            "image/png": "[encoded data removed]",
            "text/plain": [
              "<Figure size 432x288 with 1 Axes>"
            ]
          },
          "metadata": {
            "needs_background": "light"
          }
        },
        {
          "output_type": "display_data",
          "data": {
            "image/png": "[encoded data removed]",
            "text/plain": [
              "<Figure size 432x288 with 1 Axes>"
            ]
          },
          "metadata": {
            "needs_background": "light"
          }
        },
        {
          "output_type": "stream",
          "name": "stdout",
          "text": [
            "Final Training Accuracy: 84.375\n",
            "Final Validation Accuracy: 98.4375\n"
          ]
        }
      ]
    },
    {
      "cell_type": "code",
      "metadata": {
        "id": "dG9t39JV_6Zg",
        "colab": {
          "base_uri": "https://localhost:8080/",
          "height": 608
        },
        "outputId": "540ea2be-f53a-4647-b6f2-4965ccb1ad77"
      },
      "source": [
        "model5 = SpamRNN_3(vocab_size,16,2)\n",
        "train_SpamRNN(model5, train,valid, batch_size=64, num_epochs=5, lr=0.001)"
      ],
      "execution_count": null,
      "outputs": [
        {
          "output_type": "display_data",
          "data": {
            "image/png": "[encoded data removed]",
            "text/plain": [
              "<Figure size 432x288 with 1 Axes>"
            ]
          },
          "metadata": {
            "needs_background": "light"
          }
        },
        {
          "output_type": "display_data",
          "data": {
            "image/png": "[encoded data removed]",
            "text/plain": [
              "<Figure size 432x288 with 1 Axes>"
            ]
          },
          "metadata": {
            "needs_background": "light"
          }
        },
        {
          "output_type": "stream",
          "name": "stdout",
          "text": [
            "Final Training Accuracy: 26.5625\n",
            "Final Validation Accuracy: 12.5\n"
          ]
        }
      ]
    },
    {
      "cell_type": "markdown",
      "metadata": {
        "id": "v7DY56rKa91I"
      },
      "source": [
        "### Part (d) [1 pt]\n",
        "\n",
        "Before we deploy a machine learning model, we usually want to have a better understanding\n",
        "of how our model performs beyond its validation accuracy. An important metric to track is\n",
        "*how well our model performs in certain subsets of the data*.\n",
        "\n",
        "In particular, what is the model's error rate amongst data with negative labels?\n",
        "This is called the **false positive rate**.\n",
        "\n",
        "What about the model's error rate amongst data with positive labels?\n",
        "This is called the **false negative rate**.\n",
        "\n",
        "Report your final model's false positive and false negative rate across the\n",
        "validation set."
      ]
    },
    {
      "cell_type": "code",
      "metadata": {
        "id": "7ggbQSdba91J"
      },
      "source": [
        "# Create a Dataset of only spam validation examples\n",
        "#valid_spam = torchtext.legacy.data.Dataset(\n",
        " #   [e for e in valid.examples if e.label == 1],\n",
        "  #  valid.fields)\n",
        "# Create a Dataset of only non-spam validation examples\n",
        "#valid_nospam = None # TODO"
      ],
      "execution_count": null,
      "outputs": []
    },
    {
      "cell_type": "code",
      "metadata": {
        "id": "j-uIUs5lABvD"
      },
      "source": [
        "# Create a Dataset of only spam validation examples\n",
        "valid_spam = torchtext.legacy.data.Dataset(\n",
        "    [e for e in valid.examples if e.label == 1],\n",
        "    valid.fields)\n",
        "# Create a Dataset of only non-spam validation examples\n",
        "valid_nospam = torchtext.legacy.data.Dataset(\n",
        "    [e for e in valid.examples if e.label == 0],\n",
        "    valid.fields)"
      ],
      "execution_count": null,
      "outputs": []
    },
    {
      "cell_type": "code",
      "metadata": {
        "id": "Kz0NQ7gym-hB",
        "colab": {
          "base_uri": "https://localhost:8080/",
          "height": 608
        },
        "outputId": "9c228ce2-e2b5-4a41-e4e8-77be0750d503"
      },
      "source": [
        "#model6 = SpamRNN_2(vocab_size,10,2)\n",
        "train_SpamRNN(model3, train,valid_spam, batch_size=64, num_epochs=5, lr=0.01)"
      ],
      "execution_count": null,
      "outputs": [
        {
          "output_type": "display_data",
          "data": {
            "image/png": "[encoded data removed]",
            "text/plain": [
              "<Figure size 432x288 with 1 Axes>"
            ]
          },
          "metadata": {
            "needs_background": "light"
          }
        },
        {
          "output_type": "display_data",
          "data": {
            "image/png": "[encoded data removed]",
            "text/plain": [
              "<Figure size 432x288 with 1 Axes>"
            ]
          },
          "metadata": {
            "needs_background": "light"
          }
        },
        {
          "output_type": "stream",
          "name": "stdout",
          "text": [
            "Final Training Accuracy: 100.0\n",
            "Final Validation Accuracy: 95.0\n"
          ]
        }
      ]
    },
    {
      "cell_type": "code",
      "metadata": {
        "id": "fHV75z2Nm-Tp",
        "colab": {
          "base_uri": "https://localhost:8080/",
          "height": 608
        },
        "outputId": "1052a349-eeb6-45a0-8204-400af394e6fe"
      },
      "source": [
        "#model7 = SpamRNN_2(vocab_size,10,2)\n",
        "train_SpamRNN(model3, train,valid_nospam, batch_size=64, num_epochs=5, lr=0.01)"
      ],
      "execution_count": null,
      "outputs": [
        {
          "output_type": "display_data",
          "data": {
            "image/png": "[encoded data removed]",
            "text/plain": [
              "<Figure size 432x288 with 1 Axes>"
            ]
          },
          "metadata": {
            "needs_background": "light"
          }
        },
        {
          "output_type": "display_data",
          "data": {
            "image/png": "[encoded data removed]",
            "text/plain": [
              "<Figure size 432x288 with 1 Axes>"
            ]
          },
          "metadata": {
            "needs_background": "light"
          }
        },
        {
          "output_type": "stream",
          "name": "stdout",
          "text": [
            "Final Training Accuracy: 100.0\n",
            "Final Validation Accuracy: 100.0\n"
          ]
        }
      ]
    },
    {
      "cell_type": "markdown",
      "metadata": {
        "id": "N1iRteb3a91O"
      },
      "source": [
        "### Part (e) [1 pt]\n",
        "\n",
        "The impact of a false positive vs a false negative can be drastically different.\n",
        "If our spam detection algorithm was deployed on your phone, what is the impact\n",
        "of a false positive on the phone's user? What is the impact of a false negative?"
      ]
    },
    {
      "cell_type": "markdown",
      "metadata": {
        "id": "qXbeZjxMpYJ2"
      },
      "source": [
        "False Positive Impact: It will creat a choas and confusion in the user mind since, the prediction over here states that its a spam but in reality it is not spam."
      ]
    },
    {
      "cell_type": "markdown",
      "metadata": {
        "id": "sg46FS2BpX7L"
      },
      "source": [
        "False Negative Impact: The user will be fooled by the spammer as in this case the prediction is no spam but it is a spam in reality"
      ]
    },
    {
      "cell_type": "markdown",
      "metadata": {
        "id": "Gznefulsa91V"
      },
      "source": [
        "## Part 4. Evaluation [7 pt]\n",
        "\n",
        "### Part (a) [1 pt]\n",
        "\n",
        "Report the final test accuracy of your model."
      ]
    },
    {
      "cell_type": "code",
      "metadata": {
        "id": "d58NVtR6sl7l"
      },
      "source": [
        "test_iter = torchtext.legacy.data.BucketIterator(test, \n",
        "                                              batch_size=64, \n",
        "                                              sort_key=lambda x: len(x.sms), \n",
        "                                              sort_within_batch=True,\n",
        "                                              repeat=False)"
      ],
      "execution_count": null,
      "outputs": []
    },
    {
      "cell_type": "code",
      "metadata": {
        "id": "D5L5D-A1a91W",
        "colab": {
          "base_uri": "https://localhost:8080/"
        },
        "outputId": "bebd8a9c-d823-4be3-f8d3-3e72369cec0a"
      },
      "source": [
        "get_accuracy(model3, test_iter)"
      ],
      "execution_count": null,
      "outputs": [
        {
          "output_type": "execute_result",
          "data": {
            "text/plain": [
              "98.4375"
            ]
          },
          "metadata": {},
          "execution_count": 112
        }
      ]
    },
    {
      "cell_type": "markdown",
      "metadata": {
        "id": "6Hjmd8rca91Y"
      },
      "source": [
        "### Part (b) [1 pt]\n",
        "\n",
        "Report the false positive rate and false negative rate of your model across the test set."
      ]
    },
    {
      "cell_type": "code",
      "metadata": {
        "id": "GFiAKztJa91Z"
      },
      "source": [
        "# Create a Dataset of only spam test examples\n",
        "test_spam = torchtext.legacy.data.Dataset(\n",
        "    [e for e in test.examples if e.label == 1],\n",
        "    test.fields)\n",
        "# Create a Dataset of only non-spam test examples\n",
        "test_nospam = torchtext.legacy.data.Dataset(\n",
        "    [e for e in test.examples if e.label == 0],\n",
        "    test.fields)"
      ],
      "execution_count": null,
      "outputs": []
    },
    {
      "cell_type": "code",
      "metadata": {
        "id": "xZPzAcYRxlLu",
        "colab": {
          "base_uri": "https://localhost:8080/",
          "height": 608
        },
        "outputId": "b0e42d5d-41c0-41e5-cd2f-abc5f4c260d8"
      },
      "source": [
        "#model8 = SpamRNN_2(vocab_size,10,2)\n",
        "train_SpamRNN(model3, train,test_spam, batch_size=64, num_epochs=5, lr=0.01)"
      ],
      "execution_count": null,
      "outputs": [
        {
          "output_type": "display_data",
          "data": {
            "image/png": "[encoded data removed]",
            "text/plain": [
              "<Figure size 432x288 with 1 Axes>"
            ]
          },
          "metadata": {
            "needs_background": "light"
          }
        },
        {
          "output_type": "display_data",
          "data": {
            "image/png": "[encoded data removed]",
            "text/plain": [
              "<Figure size 432x288 with 1 Axes>"
            ]
          },
          "metadata": {
            "needs_background": "light"
          }
        },
        {
          "output_type": "stream",
          "name": "stdout",
          "text": [
            "Final Training Accuracy: 100.0\n",
            "Final Validation Accuracy: 95.3125\n"
          ]
        }
      ]
    },
    {
      "cell_type": "code",
      "metadata": {
        "id": "1K59PvZvxlIk",
        "colab": {
          "base_uri": "https://localhost:8080/",
          "height": 608
        },
        "outputId": "ffbff307-be1c-4bb1-9d93-d398780b7d13"
      },
      "source": [
        "#model9 = SpamRNN_2(vocab_size,10,2)\n",
        "train_SpamRNN(model3, train,test_nospam, batch_size=64, num_epochs=5, lr=0.01)"
      ],
      "execution_count": null,
      "outputs": [
        {
          "output_type": "display_data",
          "data": {
            "image/png": "[encoded data removed]",
            "text/plain": [
              "<Figure size 432x288 with 1 Axes>"
            ]
          },
          "metadata": {
            "needs_background": "light"
          }
        },
        {
          "output_type": "display_data",
          "data": {
            "image/png": "[encoded data removed]",
            "text/plain": [
              "<Figure size 432x288 with 1 Axes>"
            ]
          },
          "metadata": {
            "needs_background": "light"
          }
        },
        {
          "output_type": "stream",
          "name": "stdout",
          "text": [
            "Final Training Accuracy: 100.0\n",
            "Final Validation Accuracy: 98.4375\n"
          ]
        }
      ]
    },
    {
      "cell_type": "markdown",
      "metadata": {
        "id": "0jGHtQFpa91b"
      },
      "source": [
        "### Part (c) [3 pt]\n",
        "\n",
        "What is your model's prediction of the **probability** that\n",
        "the SMS message \"machine learning is sooo cool!\" is spam?\n",
        "\n",
        "Hint: To begin, use `text_field.vocab.stoi` to look up the index\n",
        "of each character in the vocabulary."
      ]
    },
    {
      "cell_type": "code",
      "metadata": {
        "id": "h_2nSJq8a91b"
      },
      "source": [
        "msg = \"machine learning is sooo cool!\""
      ],
      "execution_count": null,
      "outputs": []
    },
    {
      "cell_type": "code",
      "metadata": {
        "id": "j2jYWVIoBGbv"
      },
      "source": [
        "def get_new_msg(msg):\n",
        "    message = msg\n",
        "    idxs = [text_field.vocab.stoi[w]        # lookup the index of word\n",
        "            for w in message\n",
        "            if w in text_field.vocab.stoi] # keep words that has an embedding\n",
        "    idxs = torch.tensor(idxs) # convert list to pytorch tensor\n",
        "    return idxs"
      ],
      "execution_count": null,
      "outputs": []
    },
    {
      "cell_type": "code",
      "metadata": {
        "id": "h1LrMh_a4C9w",
        "colab": {
          "base_uri": "https://localhost:8080/"
        },
        "outputId": "7b33645f-421c-4812-fc94-4d799cfab927"
      },
      "source": [
        "new_msg = get_new_msg(msg)\n",
        "#print(new_msg.shape)\n",
        "\n",
        "out = torch.sigmoid(model3(new_msg.unsqueeze(0)))\n",
        "print(\"Spam Probability Distribution of message (No Spam , Spam):\",format(out))\n",
        "pred = out.max(1, keepdim=True)[1]\n",
        "\n",
        "print(pred)\n",
        "prediction = pred.item()\n",
        "if prediction > 0:\n",
        "  print(\"Spam Message\")\n",
        "else:\n",
        "  print(\"No Spam Message\")\n",
        "\n"
      ],
      "execution_count": null,
      "outputs": [
        {
          "output_type": "stream",
          "name": "stdout",
          "text": [
            "Spam Probability Distribution of message (No Spam , Spam): tensor([[0.9948, 0.0042]], grad_fn=<SigmoidBackward0>)\n",
            "tensor([[0]])\n",
            "No Spam Message\n"
          ]
        }
      ]
    },
    {
      "cell_type": "code",
      "metadata": {
        "id": "Zdsq6XRBK7C0"
      },
      "source": [
        "text = \"Free entry in 2 a wkly comp to win FA Cup final tkts 21st May 2005. Text FA to 87121 to receive entry question(std txt rate)T&C's apply 08452810075over18's\""
      ],
      "execution_count": null,
      "outputs": []
    },
    {
      "cell_type": "code",
      "metadata": {
        "id": "SVC_Z58C4C7c",
        "colab": {
          "base_uri": "https://localhost:8080/"
        },
        "outputId": "16f276e1-96a0-4be5-de88-1e0db701cf78"
      },
      "source": [
        "new_msg = get_new_msg(text)\n",
        "#print(new_msg.shape)\n",
        "\n",
        "out = torch.sigmoid(model3(new_msg.unsqueeze(0)))\n",
        "print(\"Spam Probability Distribution of message (No Spam , Spam):\",format(out))\n",
        "pred = out.max(1, keepdim=True)[1]\n",
        "\n",
        "print(pred)\n",
        "prediction = pred.item()\n",
        "if prediction > 0:\n",
        "  print(\"Spam Message\")\n",
        "else:\n",
        "  print(\"No Spam Message\")\n"
      ],
      "execution_count": null,
      "outputs": [
        {
          "output_type": "stream",
          "name": "stdout",
          "text": [
            "Spam Probability Distribution of message (No Spam , Spam): tensor([[2.7818e-04, 9.9989e-01]], grad_fn=<SigmoidBackward0>)\n",
            "tensor([[1]])\n",
            "Spam Message\n"
          ]
        }
      ]
    },
    {
      "cell_type": "markdown",
      "metadata": {
        "id": "QD1zgYJpa91f"
      },
      "source": [
        "### Part (d) [2 pt]\n",
        "\n",
        "Do you think detecting spam is an easy or difficult task?\n",
        "\n",
        "Since machine learning models are expensive to train and deploy, it is very\n",
        "important to compare our models against baseline models: a simple\n",
        "model that is easy to build and inexpensive to run that we can compare our\n",
        "recurrent neural network model against.\n",
        "\n",
        "Explain how you might build a simple baseline model. This baseline model\n",
        "can be a simple neural network (with very few weights), a hand-written algorithm,\n",
        "or any other strategy that is easy to build and test.\n",
        "\n",
        "**Do not actually build a baseline model. Instead, provide instructions on\n",
        "how to build it.**"
      ]
    },
    {
      "cell_type": "markdown",
      "metadata": {
        "id": "FFlGFIM_ugTy"
      },
      "source": [
        "Detecting spam is a difficult task as the spammers are continously working to nulfiy the detection practices, so its always evolving."
      ]
    },
    {
      "cell_type": "markdown",
      "metadata": {
        "id": "AozegjX8uh4M"
      },
      "source": [
        "As of now, all the models are working on the fundamentals of feed forward loop where we tune everything in advance in search for better output with very less errors. The optimization works in feed back loop to make the whole process looks like in feed forward control. "
      ]
    },
    {
      "cell_type": "markdown",
      "metadata": {
        "id": "X0wsbuplugQs"
      },
      "source": [
        "The model i would like to build will take the output prediction as the comparison factor to the actual input and will calcaulate the error or deviation. Further that deviation factor will be taken as a token to reinitialize the gradient to give an output with 95% COI(adjustable) and will iterate for the next iterations. This model probably wont need much hidden layers as the output-input token will cover up for the loss of the hidden layers. "
      ]
    },
    {
      "cell_type": "markdown",
      "metadata": {
        "id": "zIR3Q5l0v1HP"
      },
      "source": [
        "# PART B - Transfer Learning [20 pt]\n",
        "\n",
        "In this part we will compare our earlier model with one that takes advantage of a generative RNN model to improve the prediction. There are several ways to implement transfer learning with RNNs, here we will use an approach known as ULMFiT developed by fastai. Rather than rebuilding the model from scratch, we will take advantage of the fastai library.\n",
        "\n",
        "Provided below is some helper code to get you started.\n",
        "\n",
        "#### Helper Code"
      ]
    },
    {
      "cell_type": "code",
      "metadata": {
        "id": "5R-_BQyiAMoo",
        "colab": {
          "base_uri": "https://localhost:8080/"
        },
        "outputId": "7c733e79-8dd8-48d7-ab86-9e6ad8a79ee7"
      },
      "source": [
        "# install relevant libraries\n",
        "!pip install fastai"
      ],
      "execution_count": null,
      "outputs": [
        {
          "output_type": "stream",
          "name": "stdout",
          "text": [
            "Requirement already satisfied: fastai in /usr/local/lib/python3.7/dist-packages (1.0.61)\n",
            "Requirement already satisfied: numexpr in /usr/local/lib/python3.7/dist-packages (from fastai) (2.7.3)\n",
            "Requirement already satisfied: pyyaml in /usr/local/lib/python3.7/dist-packages (from fastai) (3.13)\n",
            "Requirement already satisfied: packaging in /usr/local/lib/python3.7/dist-packages (from fastai) (21.3)\n",
            "Requirement already satisfied: nvidia-ml-py3 in /usr/local/lib/python3.7/dist-packages (from fastai) (7.352.0)\n",
            "Requirement already satisfied: scipy in /usr/local/lib/python3.7/dist-packages (from fastai) (1.4.1)\n",
            "Requirement already satisfied: spacy>=2.0.18 in /usr/local/lib/python3.7/dist-packages (from fastai) (2.2.4)\n",
            "Requirement already satisfied: pandas in /usr/local/lib/python3.7/dist-packages (from fastai) (1.1.5)\n",
            "Requirement already satisfied: requests in /usr/local/lib/python3.7/dist-packages (from fastai) (2.23.0)\n",
            "Requirement already satisfied: fastprogress>=0.2.1 in /usr/local/lib/python3.7/dist-packages (from fastai) (1.0.0)\n",
            "Requirement already satisfied: bottleneck in /usr/local/lib/python3.7/dist-packages (from fastai) (1.3.2)\n",
            "Requirement already satisfied: Pillow in /usr/local/lib/python3.7/dist-packages (from fastai) (7.1.2)\n",
            "Requirement already satisfied: torch>=1.0.0 in /usr/local/lib/python3.7/dist-packages (from fastai) (1.10.0+cu111)\n",
            "Requirement already satisfied: beautifulsoup4 in /usr/local/lib/python3.7/dist-packages (from fastai) (4.6.3)\n",
            "Requirement already satisfied: numpy>=1.15 in /usr/local/lib/python3.7/dist-packages (from fastai) (1.19.5)\n",
            "Requirement already satisfied: matplotlib in /usr/local/lib/python3.7/dist-packages (from fastai) (3.2.2)\n",
            "Requirement already satisfied: torchvision in /usr/local/lib/python3.7/dist-packages (from fastai) (0.11.1+cu111)\n",
            "Requirement already satisfied: thinc==7.4.0 in /usr/local/lib/python3.7/dist-packages (from spacy>=2.0.18->fastai) (7.4.0)\n",
            "Requirement already satisfied: murmurhash<1.1.0,>=0.28.0 in /usr/local/lib/python3.7/dist-packages (from spacy>=2.0.18->fastai) (1.0.6)\n",
            "Requirement already satisfied: blis<0.5.0,>=0.4.0 in /usr/local/lib/python3.7/dist-packages (from spacy>=2.0.18->fastai) (0.4.1)\n",
            "Requirement already satisfied: tqdm<5.0.0,>=4.38.0 in /usr/local/lib/python3.7/dist-packages (from spacy>=2.0.18->fastai) (4.62.3)\n",
            "Requirement already satisfied: plac<1.2.0,>=0.9.6 in /usr/local/lib/python3.7/dist-packages (from spacy>=2.0.18->fastai) (1.1.3)\n",
            "Requirement already satisfied: wasabi<1.1.0,>=0.4.0 in /usr/local/lib/python3.7/dist-packages (from spacy>=2.0.18->fastai) (0.8.2)\n",
            "Requirement already satisfied: catalogue<1.1.0,>=0.0.7 in /usr/local/lib/python3.7/dist-packages (from spacy>=2.0.18->fastai) (1.0.0)\n",
            "Requirement already satisfied: cymem<2.1.0,>=2.0.2 in /usr/local/lib/python3.7/dist-packages (from spacy>=2.0.18->fastai) (2.0.6)\n",
            "Requirement already satisfied: srsly<1.1.0,>=1.0.2 in /usr/local/lib/python3.7/dist-packages (from spacy>=2.0.18->fastai) (1.0.5)\n",
            "Requirement already satisfied: setuptools in /usr/local/lib/python3.7/dist-packages (from spacy>=2.0.18->fastai) (57.4.0)\n",
            "Requirement already satisfied: preshed<3.1.0,>=3.0.2 in /usr/local/lib/python3.7/dist-packages (from spacy>=2.0.18->fastai) (3.0.6)\n",
            "Requirement already satisfied: importlib-metadata>=0.20 in /usr/local/lib/python3.7/dist-packages (from catalogue<1.1.0,>=0.0.7->spacy>=2.0.18->fastai) (4.8.2)\n",
            "Requirement already satisfied: typing-extensions>=3.6.4 in /usr/local/lib/python3.7/dist-packages (from importlib-metadata>=0.20->catalogue<1.1.0,>=0.0.7->spacy>=2.0.18->fastai) (3.10.0.2)\n",
            "Requirement already satisfied: zipp>=0.5 in /usr/local/lib/python3.7/dist-packages (from importlib-metadata>=0.20->catalogue<1.1.0,>=0.0.7->spacy>=2.0.18->fastai) (3.6.0)\n",
            "Requirement already satisfied: urllib3!=1.25.0,!=1.25.1,<1.26,>=1.21.1 in /usr/local/lib/python3.7/dist-packages (from requests->fastai) (1.24.3)\n",
            "Requirement already satisfied: chardet<4,>=3.0.2 in /usr/local/lib/python3.7/dist-packages (from requests->fastai) (3.0.4)\n",
            "Requirement already satisfied: certifi>=2017.4.17 in /usr/local/lib/python3.7/dist-packages (from requests->fastai) (2021.10.8)\n",
            "Requirement already satisfied: idna<3,>=2.5 in /usr/local/lib/python3.7/dist-packages (from requests->fastai) (2.10)\n",
            "Requirement already satisfied: kiwisolver>=1.0.1 in /usr/local/lib/python3.7/dist-packages (from matplotlib->fastai) (1.3.2)\n",
            "Requirement already satisfied: cycler>=0.10 in /usr/local/lib/python3.7/dist-packages (from matplotlib->fastai) (0.11.0)\n",
            "Requirement already satisfied: pyparsing!=2.0.4,!=2.1.2,!=2.1.6,>=2.0.1 in /usr/local/lib/python3.7/dist-packages (from matplotlib->fastai) (3.0.6)\n",
            "Requirement already satisfied: python-dateutil>=2.1 in /usr/local/lib/python3.7/dist-packages (from matplotlib->fastai) (2.8.2)\n",
            "Requirement already satisfied: six>=1.5 in /usr/local/lib/python3.7/dist-packages (from python-dateutil>=2.1->matplotlib->fastai) (1.15.0)\n",
            "Requirement already satisfied: pytz>=2017.2 in /usr/local/lib/python3.7/dist-packages (from pandas->fastai) (2018.9)\n"
          ]
        }
      ]
    },
    {
      "cell_type": "code",
      "metadata": {
        "id": "316Xs5WBv0kg"
      },
      "source": [
        "# load relevant libraries\n",
        "from fastai import * \n",
        "import pandas as pd\n",
        "import numpy as np\n",
        "from functools import partial\n",
        "import io\n",
        "import os\n",
        "from fastai.text import *"
      ],
      "execution_count": null,
      "outputs": []
    },
    {
      "cell_type": "code",
      "metadata": {
        "id": "MfoKX8tKAU4Q",
        "colab": {
          "base_uri": "https://localhost:8080/"
        },
        "outputId": "f1f00bfd-6298-44e0-f3aa-e6c1d813ccd5"
      },
      "source": [
        "# download SPAM data\n",
        "!wget https://archive.ics.uci.edu/ml/machine-learning-databases/00228/smsspamcollection.zip\n",
        "!unzip smsspamcollection.zip"
      ],
      "execution_count": null,
      "outputs": [
        {
          "output_type": "stream",
          "name": "stdout",
          "text": [
            "--2021-11-20 21:10:48--  https://archive.ics.uci.edu/ml/machine-learning-databases/00228/smsspamcollection.zip\n",
            "Resolving archive.ics.uci.edu (archive.ics.uci.edu)... 128.195.10.252\n",
            "Connecting to archive.ics.uci.edu (archive.ics.uci.edu)|128.195.10.252|:443... connected.\n",
            "HTTP request sent, awaiting response... 200 OK\n",
            "Length: 203415 (199K) [application/x-httpd-php]\n",
            "Saving to: ‘smsspamcollection.zip’\n",
            "\n",
            "smsspamcollection.z 100%[===================>] 198.65K   337KB/s    in 0.6s    \n",
            "\n",
            "2021-11-20 21:10:49 (337 KB/s) - ‘smsspamcollection.zip’ saved [203415/203415]\n",
            "\n",
            "Archive:  smsspamcollection.zip\n",
            "replace SMSSpamCollection? [y]es, [n]o, [A]ll, [N]one, [r]ename: y\n",
            "  inflating: SMSSpamCollection       \n",
            "  inflating: readme                  \n"
          ]
        }
      ]
    },
    {
      "cell_type": "markdown",
      "metadata": {
        "id": "J4vSv4Z9QxTJ"
      },
      "source": [
        "This time we will load the data using pandas."
      ]
    },
    {
      "cell_type": "code",
      "metadata": {
        "id": "RKPhLwlhAbv-",
        "colab": {
          "base_uri": "https://localhost:8080/",
          "height": 206
        },
        "outputId": "7c916e8e-850d-4fbd-fa01-5935c550c9fa"
      },
      "source": [
        "# set up data and verify\n",
        "df1 = pd.read_csv('SMSSpamCollection', sep='\\t',  header=None, names=['target', 'text'])\n",
        "df1.head()"
      ],
      "execution_count": null,
      "outputs": [
        {
          "output_type": "execute_result",
          "data": {
            "text/html": [
              "<div>\n",
              "<style scoped>\n",
              "    .dataframe tbody tr th:only-of-type {\n",
              "        vertical-align: middle;\n",
              "    }\n",
              "\n",
              "    .dataframe tbody tr th {\n",
              "        vertical-align: top;\n",
              "    }\n",
              "\n",
              "    .dataframe thead th {\n",
              "        text-align: right;\n",
              "    }\n",
              "</style>\n",
              "<table border=\"1\" class=\"dataframe\">\n",
              "  <thead>\n",
              "    <tr style=\"text-align: right;\">\n",
              "      <th></th>\n",
              "      <th>target</th>\n",
              "      <th>text</th>\n",
              "    </tr>\n",
              "  </thead>\n",
              "  <tbody>\n",
              "    <tr>\n",
              "      <th>0</th>\n",
              "      <td>ham</td>\n",
              "      <td>Go until jurong point, crazy.. Available only ...</td>\n",
              "    </tr>\n",
              "    <tr>\n",
              "      <th>1</th>\n",
              "      <td>ham</td>\n",
              "      <td>Ok lar... Joking wif u oni...</td>\n",
              "    </tr>\n",
              "    <tr>\n",
              "      <th>2</th>\n",
              "      <td>spam</td>\n",
              "      <td>Free entry in 2 a wkly comp to win FA Cup fina...</td>\n",
              "    </tr>\n",
              "    <tr>\n",
              "      <th>3</th>\n",
              "      <td>ham</td>\n",
              "      <td>U dun say so early hor... U c already then say...</td>\n",
              "    </tr>\n",
              "    <tr>\n",
              "      <th>4</th>\n",
              "      <td>ham</td>\n",
              "      <td>Nah I don't think he goes to usf, he lives aro...</td>\n",
              "    </tr>\n",
              "  </tbody>\n",
              "</table>\n",
              "</div>"
            ],
            "text/plain": [
              "  target                                               text\n",
              "0    ham  Go until jurong point, crazy.. Available only ...\n",
              "1    ham                      Ok lar... Joking wif u oni...\n",
              "2   spam  Free entry in 2 a wkly comp to win FA Cup fina...\n",
              "3    ham  U dun say so early hor... U c already then say...\n",
              "4    ham  Nah I don't think he goes to usf, he lives aro..."
            ]
          },
          "metadata": {},
          "execution_count": 49
        }
      ]
    },
    {
      "cell_type": "code",
      "metadata": {
        "id": "rorC2T1yAfWY",
        "colab": {
          "base_uri": "https://localhost:8080/"
        },
        "outputId": "ee16e0ca-b345-4ec9-fb85-bcbfcb3556d1"
      },
      "source": [
        "# check distribution\n",
        "df1['target'].value_counts()"
      ],
      "execution_count": null,
      "outputs": [
        {
          "output_type": "execute_result",
          "data": {
            "text/plain": [
              "ham     4825\n",
              "spam     747\n",
              "Name: target, dtype: int64"
            ]
          },
          "metadata": {},
          "execution_count": 50
        }
      ]
    },
    {
      "cell_type": "markdown",
      "metadata": {
        "id": "snNazefHQ3yo"
      },
      "source": [
        "Split the data into training and validation datasets."
      ]
    },
    {
      "cell_type": "code",
      "metadata": {
        "id": "i4WuVTDhArhc"
      },
      "source": [
        "# split the data and check dimensions\n",
        "\n",
        "from sklearn.model_selection import train_test_split\n",
        "\n",
        "# split data into training and validation set\n",
        "df_trn, df_val = train_test_split(df1, stratify = df1['target'], test_size = 0.4, random_state = 42)"
      ],
      "execution_count": null,
      "outputs": []
    },
    {
      "cell_type": "code",
      "metadata": {
        "id": "vxX91ZTkvJCK"
      },
      "source": [
        "# split data into testing and validation set\n",
        "df_val, df_test = train_test_split(df_val, stratify = df_val['target'], test_size = 0.5, random_state = 42)"
      ],
      "execution_count": null,
      "outputs": []
    },
    {
      "cell_type": "code",
      "metadata": {
        "id": "uyCkDbTRAyxk",
        "colab": {
          "base_uri": "https://localhost:8080/"
        },
        "outputId": "eef9c6ac-31c5-4520-fb94-70857a3cd03b"
      },
      "source": [
        "df_trn.shape, df_val.shape, df_test.shape"
      ],
      "execution_count": null,
      "outputs": [
        {
          "output_type": "execute_result",
          "data": {
            "text/plain": [
              "((3343, 2), (1114, 2), (1115, 2))"
            ]
          },
          "metadata": {},
          "execution_count": 53
        }
      ]
    },
    {
      "cell_type": "code",
      "metadata": {
        "id": "JwHUCW4tGAKF",
        "colab": {
          "base_uri": "https://localhost:8080/"
        },
        "outputId": "16e2c58c-0883-4e01-d5c1-732127fd1268"
      },
      "source": [
        "df_trn['target'].value_counts(),df_val['target'].value_counts(),df_test['target'].value_counts()"
      ],
      "execution_count": null,
      "outputs": [
        {
          "output_type": "execute_result",
          "data": {
            "text/plain": [
              "(ham     2895\n",
              " spam     448\n",
              " Name: target, dtype: int64, ham     965\n",
              " spam    149\n",
              " Name: target, dtype: int64, ham     965\n",
              " spam    150\n",
              " Name: target, dtype: int64)"
            ]
          },
          "metadata": {},
          "execution_count": 54
        }
      ]
    },
    {
      "cell_type": "code",
      "metadata": {
        "id": "LIPYfVYewVVq"
      },
      "source": [
        "# save the original training examples\n",
        "#old_train_examples = train.examples\n",
        "# get all the spam messages in `train`\n",
        "#train_spam = []\n",
        "#for item in train.examples:\n",
        "#    if item.label == 1:\n",
        "#        train_spam.append(item)\n",
        "# duplicate each spam message 6 more times\n",
        "#train.examples = old_train_examples + train_spam * 6"
      ],
      "execution_count": null,
      "outputs": []
    },
    {
      "cell_type": "code",
      "metadata": {
        "id": "cfMN2AA4hcR6"
      },
      "source": [
        ""
      ],
      "execution_count": null,
      "outputs": []
    },
    {
      "cell_type": "markdown",
      "metadata": {
        "id": "kuGx5mebBfEm"
      },
      "source": [
        "### Create the language model\n",
        "Esentially, the language model contains the structure of the language (English in this case), allowing us to quickly use in a classification model, skipping the part of learning the semantics of the language from scratch.\n",
        "\n",
        "Creating a language model from scratch can be intensive due to the sheer size of data. Instead we will download the pre-trained model, which is a neural network (NN) with an AWD_LSTM architecture. By setting pretrained = True we say to fastai to download the weights from the trained model (a corpus of 103 MM of wikipedia articles)."
      ]
    },
    {
      "cell_type": "code",
      "metadata": {
        "id": "S6yWJklsBdPp",
        "colab": {
          "base_uri": "https://localhost:8080/",
          "height": 89
        },
        "outputId": "0dbdc6c1-25d0-4302-97f1-3b39932523e9"
      },
      "source": [
        "# create pretrained language model data\n",
        "data_lm = TextLMDataBunch.from_df(train_df = df_trn, valid_df = df_val, path = \"\")\n",
        "lang_mod = language_model_learner(data_lm,  arch = AWD_LSTM, pretrained = True, drop_mult=1.)"
      ],
      "execution_count": null,
      "outputs": [
        {
          "output_type": "display_data",
          "data": {
            "text/html": [
              ""
            ],
            "text/plain": [
              "<IPython.core.display.HTML object>"
            ]
          },
          "metadata": {}
        },
        {
          "output_type": "stream",
          "name": "stderr",
          "text": [
            "/usr/local/lib/python3.7/dist-packages/fastai/core.py:302: VisibleDeprecationWarning: Creating an ndarray from ragged nested sequences (which is a list-or-tuple of lists-or-tuples-or ndarrays with different lengths or shapes) is deprecated. If you meant to do this, you must specify 'dtype=object' when creating the ndarray\n",
            "  return np.array(a, dtype=dtype, **kwargs)\n"
          ]
        },
        {
          "output_type": "display_data",
          "data": {
            "text/html": [
              ""
            ],
            "text/plain": [
              "<IPython.core.display.HTML object>"
            ]
          },
          "metadata": {}
        },
        {
          "output_type": "stream",
          "name": "stdout",
          "text": [
            "Downloading https://s3.amazonaws.com/fast-ai-modelzoo/wt103-fwd.tgz\n"
          ]
        },
        {
          "output_type": "display_data",
          "data": {
            "text/html": [
              ""
            ],
            "text/plain": [
              "<IPython.core.display.HTML object>"
            ]
          },
          "metadata": {}
        }
      ]
    },
    {
      "cell_type": "markdown",
      "metadata": {
        "id": "lT_aVqCRB8DJ"
      },
      "source": [
        "### Testing the language model\n"
      ]
    },
    {
      "cell_type": "code",
      "metadata": {
        "id": "PlZgAMGbCZXY",
        "colab": {
          "base_uri": "https://localhost:8080/"
        },
        "outputId": "b2ce8176-73bb-4dc3-a5d9-c923b0b8243e"
      },
      "source": [
        "for i in range(5):\n",
        "  print(lang_mod.predict(\"The problem usually starts when\", n_words=10))"
      ],
      "execution_count": null,
      "outputs": [
        {
          "output_type": "stream",
          "name": "stdout",
          "text": [
            "The problem usually starts when the 674 team comes to their bottom in the mid\n",
            "The problem usually starts when Bucks are picked out as a single group (\n",
            "The problem usually starts when a situation is more normal : in the first place\n",
            "The problem usually starts when the \" show is simply missing , for each or\n",
            "The problem usually starts when there are too much other problems to be found ,\n"
          ]
        }
      ]
    },
    {
      "cell_type": "markdown",
      "metadata": {
        "id": "8-9pK9cTCmFP"
      },
      "source": [
        "Each time we excecute the `predict`, we get a different random sentence, completed with the number of choosen words (`n_words`).\n",
        "\n",
        "Try your own sentences!"
      ]
    },
    {
      "cell_type": "markdown",
      "metadata": {
        "id": "Q8-HUwNYCqSO"
      },
      "source": [
        "### Fine-tuning the language model\n",
        "The language model that we have \"loaded\" is great for generating wikipedia-like sentances, but here we're more interested in generating data like our email dataset. \n",
        "\n",
        "Make sure to enable GPU for this step or it make takes several hours to train."
      ]
    },
    {
      "cell_type": "code",
      "metadata": {
        "id": "2Z6lG13vRnbo",
        "colab": {
          "base_uri": "https://localhost:8080/",
          "height": 554
        },
        "outputId": "20f920cc-cdf9-4149-aef6-6dee950bb7c1"
      },
      "source": [
        "# fine-tune language model data\n",
        "lang_mod.fit_one_cycle(4, max_lr= 5e-02)\n",
        "lang_mod.freeze_to(-1)\n",
        "lang_mod.fit_one_cycle(3, slice(1e-2/(2.6**4), 1e-2))\n",
        "lang_mod.freeze_to(-2)\n",
        "lang_mod.fit_one_cycle(3, slice(3e-3/(2.6**4), 1e-3))\n",
        "lang_mod.unfreeze()\n",
        "lang_mod.fit_one_cycle(3, slice(3e-3/(2.6**4), 1e-3))\n",
        "\n",
        "# save language model\n",
        "lang_mod.save_encoder('my_awsome_encoder')"
      ],
      "execution_count": null,
      "outputs": [
        {
          "output_type": "display_data",
          "data": {
            "text/html": [
              "<table border=\"1\" class=\"dataframe\">\n",
              "  <thead>\n",
              "    <tr style=\"text-align: left;\">\n",
              "      <th>epoch</th>\n",
              "      <th>train_loss</th>\n",
              "      <th>valid_loss</th>\n",
              "      <th>accuracy</th>\n",
              "      <th>time</th>\n",
              "    </tr>\n",
              "  </thead>\n",
              "  <tbody>\n",
              "    <tr>\n",
              "      <td>0</td>\n",
              "      <td>5.584334</td>\n",
              "      <td>4.803138</td>\n",
              "      <td>0.185714</td>\n",
              "      <td>00:05</td>\n",
              "    </tr>\n",
              "    <tr>\n",
              "      <td>1</td>\n",
              "      <td>4.875803</td>\n",
              "      <td>4.494593</td>\n",
              "      <td>0.185714</td>\n",
              "      <td>00:05</td>\n",
              "    </tr>\n",
              "    <tr>\n",
              "      <td>2</td>\n",
              "      <td>4.419443</td>\n",
              "      <td>4.406842</td>\n",
              "      <td>0.271429</td>\n",
              "      <td>00:05</td>\n",
              "    </tr>\n",
              "    <tr>\n",
              "      <td>3</td>\n",
              "      <td>4.122954</td>\n",
              "      <td>4.400613</td>\n",
              "      <td>0.242857</td>\n",
              "      <td>00:05</td>\n",
              "    </tr>\n",
              "  </tbody>\n",
              "</table>"
            ],
            "text/plain": [
              "<IPython.core.display.HTML object>"
            ]
          },
          "metadata": {}
        },
        {
          "output_type": "display_data",
          "data": {
            "text/html": [
              "<table border=\"1\" class=\"dataframe\">\n",
              "  <thead>\n",
              "    <tr style=\"text-align: left;\">\n",
              "      <th>epoch</th>\n",
              "      <th>train_loss</th>\n",
              "      <th>valid_loss</th>\n",
              "      <th>accuracy</th>\n",
              "      <th>time</th>\n",
              "    </tr>\n",
              "  </thead>\n",
              "  <tbody>\n",
              "    <tr>\n",
              "      <td>0</td>\n",
              "      <td>3.615088</td>\n",
              "      <td>4.356857</td>\n",
              "      <td>0.271429</td>\n",
              "      <td>00:05</td>\n",
              "    </tr>\n",
              "    <tr>\n",
              "      <td>1</td>\n",
              "      <td>3.580695</td>\n",
              "      <td>4.352233</td>\n",
              "      <td>0.242857</td>\n",
              "      <td>00:05</td>\n",
              "    </tr>\n",
              "    <tr>\n",
              "      <td>2</td>\n",
              "      <td>3.517533</td>\n",
              "      <td>4.352946</td>\n",
              "      <td>0.257143</td>\n",
              "      <td>00:05</td>\n",
              "    </tr>\n",
              "  </tbody>\n",
              "</table>"
            ],
            "text/plain": [
              "<IPython.core.display.HTML object>"
            ]
          },
          "metadata": {}
        },
        {
          "output_type": "display_data",
          "data": {
            "text/html": [
              "<table border=\"1\" class=\"dataframe\">\n",
              "  <thead>\n",
              "    <tr style=\"text-align: left;\">\n",
              "      <th>epoch</th>\n",
              "      <th>train_loss</th>\n",
              "      <th>valid_loss</th>\n",
              "      <th>accuracy</th>\n",
              "      <th>time</th>\n",
              "    </tr>\n",
              "  </thead>\n",
              "  <tbody>\n",
              "    <tr>\n",
              "      <td>0</td>\n",
              "      <td>3.421791</td>\n",
              "      <td>4.309705</td>\n",
              "      <td>0.271429</td>\n",
              "      <td>00:05</td>\n",
              "    </tr>\n",
              "    <tr>\n",
              "      <td>1</td>\n",
              "      <td>3.411806</td>\n",
              "      <td>4.301889</td>\n",
              "      <td>0.285714</td>\n",
              "      <td>00:05</td>\n",
              "    </tr>\n",
              "    <tr>\n",
              "      <td>2</td>\n",
              "      <td>3.394997</td>\n",
              "      <td>4.306728</td>\n",
              "      <td>0.300000</td>\n",
              "      <td>00:05</td>\n",
              "    </tr>\n",
              "  </tbody>\n",
              "</table>"
            ],
            "text/plain": [
              "<IPython.core.display.HTML object>"
            ]
          },
          "metadata": {}
        },
        {
          "output_type": "display_data",
          "data": {
            "text/html": [
              "<table border=\"1\" class=\"dataframe\">\n",
              "  <thead>\n",
              "    <tr style=\"text-align: left;\">\n",
              "      <th>epoch</th>\n",
              "      <th>train_loss</th>\n",
              "      <th>valid_loss</th>\n",
              "      <th>accuracy</th>\n",
              "      <th>time</th>\n",
              "    </tr>\n",
              "  </thead>\n",
              "  <tbody>\n",
              "    <tr>\n",
              "      <td>0</td>\n",
              "      <td>3.353244</td>\n",
              "      <td>4.285129</td>\n",
              "      <td>0.300000</td>\n",
              "      <td>00:06</td>\n",
              "    </tr>\n",
              "    <tr>\n",
              "      <td>1</td>\n",
              "      <td>3.320617</td>\n",
              "      <td>4.248589</td>\n",
              "      <td>0.271429</td>\n",
              "      <td>00:06</td>\n",
              "    </tr>\n",
              "    <tr>\n",
              "      <td>2</td>\n",
              "      <td>3.297194</td>\n",
              "      <td>4.254620</td>\n",
              "      <td>0.285714</td>\n",
              "      <td>00:06</td>\n",
              "    </tr>\n",
              "  </tbody>\n",
              "</table>"
            ],
            "text/plain": [
              "<IPython.core.display.HTML object>"
            ]
          },
          "metadata": {}
        }
      ]
    },
    {
      "cell_type": "markdown",
      "metadata": {
        "id": "KT-Y6pB1SrGg"
      },
      "source": [
        "### Classification model\n",
        "Now we can train a classification model that will identify spam and non-spam messages. Since we used a fastai language model, it will be easier to just continue working with the fastai library."
      ]
    },
    {
      "cell_type": "code",
      "metadata": {
        "id": "MIvfaeOfTDZV",
        "colab": {
          "base_uri": "https://localhost:8080/",
          "height": 124
        },
        "outputId": "c1b82eee-ac11-44ce-e27a-8cfd9858e5a5"
      },
      "source": [
        "# Classifier model data\n",
        "data_clas = TextClasDataBunch.from_df(path = \"\", train_df = df_trn,  valid_df = df_val, vocab=data_lm.train_ds.vocab, bs=32)"
      ],
      "execution_count": null,
      "outputs": [
        {
          "output_type": "display_data",
          "data": {
            "text/html": [
              ""
            ],
            "text/plain": [
              "<IPython.core.display.HTML object>"
            ]
          },
          "metadata": {}
        },
        {
          "output_type": "stream",
          "name": "stderr",
          "text": [
            "/usr/local/lib/python3.7/dist-packages/fastai/core.py:302: VisibleDeprecationWarning: Creating an ndarray from ragged nested sequences (which is a list-or-tuple of lists-or-tuples-or ndarrays with different lengths or shapes) is deprecated. If you meant to do this, you must specify 'dtype=object' when creating the ndarray\n",
            "  return np.array(a, dtype=dtype, **kwargs)\n"
          ]
        },
        {
          "output_type": "display_data",
          "data": {
            "text/html": [
              ""
            ],
            "text/plain": [
              "<IPython.core.display.HTML object>"
            ]
          },
          "metadata": {}
        },
        {
          "output_type": "stream",
          "name": "stderr",
          "text": [
            "/usr/local/lib/python3.7/dist-packages/numpy/core/_asarray.py:83: VisibleDeprecationWarning: Creating an ndarray from ragged nested sequences (which is a list-or-tuple of lists-or-tuples-or ndarrays with different lengths or shapes) is deprecated. If you meant to do this, you must specify 'dtype=object' when creating the ndarray\n",
            "  return array(a, dtype, copy=False, order=order)\n",
            "<string>:6: VisibleDeprecationWarning: Creating an ndarray from ragged nested sequences (which is a list-or-tuple of lists-or-tuples-or ndarrays with different lengths or shapes) is deprecated. If you meant to do this, you must specify 'dtype=object' when creating the ndarray\n"
          ]
        }
      ]
    },
    {
      "cell_type": "code",
      "metadata": {
        "id": "Kc2fiXTCTjHh",
        "colab": {
          "base_uri": "https://localhost:8080/",
          "height": 365
        },
        "outputId": "e681d75f-24fb-4070-e001-ab852bf55894"
      },
      "source": [
        "data_clas.show_batch()"
      ],
      "execution_count": null,
      "outputs": [
        {
          "output_type": "stream",
          "name": "stderr",
          "text": [
            "/usr/local/lib/python3.7/dist-packages/numpy/core/_asarray.py:83: VisibleDeprecationWarning: Creating an ndarray from ragged nested sequences (which is a list-or-tuple of lists-or-tuples-or ndarrays with different lengths or shapes) is deprecated. If you meant to do this, you must specify 'dtype=object' when creating the ndarray\n",
            "  return array(a, dtype, copy=False, order=order)\n",
            "<string>:6: VisibleDeprecationWarning: Creating an ndarray from ragged nested sequences (which is a list-or-tuple of lists-or-tuples-or ndarrays with different lengths or shapes) is deprecated. If you meant to do this, you must specify 'dtype=object' when creating the ndarray\n"
          ]
        },
        {
          "output_type": "display_data",
          "data": {
            "text/html": [
              "<table border=\"1\" class=\"dataframe\">\n",
              "  <thead>\n",
              "    <tr style=\"text-align: right;\">\n",
              "      <th>text</th>\n",
              "      <th>target</th>\n",
              "    </tr>\n",
              "  </thead>\n",
              "  <tbody>\n",
              "    <tr>\n",
              "      <td>xxbos xxmaj sad story of a xxmaj man - xxmaj last week was my b'day . xxmaj my xxmaj wife did'nt wish me . xxmaj my xxmaj parents forgot n so did my xxmaj kids . i went to work . xxmaj even my xxmaj colleagues did not wish . xxmaj as i entered my cabin my xxup pa said , '' xxmaj happy xxmaj b'day xxmaj boss ! !</td>\n",
              "      <td>ham</td>\n",
              "    </tr>\n",
              "    <tr>\n",
              "      <td>xxbos &lt; # &gt; % of pple marry with their xxunk ... xxunk they hav gud xxunk dat xxunk problems . i sent dis 2 u , u wil get gud news on friday by d person you like . xxmaj and tomorrow will be the best day of your life . xxmaj do nt break this xxunk . xxmaj if you break you will xxunk . send this to</td>\n",
              "      <td>ham</td>\n",
              "    </tr>\n",
              "    <tr>\n",
              "      <td>xxbos xxmaj is n't frnd a xxunk in life ? imagine urself xxunk a frnd .. xxunk u feel at ur xxunk ? xxunk u do xxunk ur cell ? wat abt xxunk ? thnk abt xxunk xxunk cared , missed &amp; &amp; xxunk u ? xxunk it to all those dear - loving frnds xxunk whom u ca nt live .. i jst did it .. xxmaj xxunk ..</td>\n",
              "      <td>ham</td>\n",
              "    </tr>\n",
              "    <tr>\n",
              "      <td>xxbos xxmaj honeybee xxmaj said : * i 'm d xxmaj sweetest in d xxmaj world * xxmaj god xxmaj laughed &amp; &amp; xxmaj said : * xxmaj wait , u xxmaj havnt xxmaj met d xxmaj person xxmaj reading xxmaj this xxmaj msg * xxup moral : xxmaj even xxup god xxmaj can xxmaj crack xxmaj jokes ! xxup gm+gn+ge+gn : )</td>\n",
              "      <td>ham</td>\n",
              "    </tr>\n",
              "    <tr>\n",
              "      <td>xxbos xxmaj honeybee xxmaj said : * i 'm d xxmaj sweetest in d xxmaj world * xxmaj god xxmaj laughed &amp; &amp; xxmaj said : * xxmaj wait , u xxmaj havnt xxmaj met d xxmaj person xxmaj reading xxmaj this xxmaj msg * xxup moral : xxmaj even xxup god xxmaj can xxmaj crack xxmaj jokes ! xxup gm+gn+ge+gn : )</td>\n",
              "      <td>ham</td>\n",
              "    </tr>\n",
              "  </tbody>\n",
              "</table>"
            ],
            "text/plain": [
              "<IPython.core.display.HTML object>"
            ]
          },
          "metadata": {}
        }
      ]
    },
    {
      "cell_type": "code",
      "metadata": {
        "id": "6sjwotSITjHi"
      },
      "source": [
        "# create the classifier\n",
        "learn_classifier = text_classifier_learner(data_clas, drop_mult=0.7, arch = AWD_LSTM)"
      ],
      "execution_count": null,
      "outputs": []
    },
    {
      "cell_type": "code",
      "metadata": {
        "id": "sfzqId9jTjHi",
        "colab": {
          "base_uri": "https://localhost:8080/"
        },
        "outputId": "755480d9-67c6-496b-cbb2-e10929b4465b"
      },
      "source": [
        "# load language model\n",
        "learn_classifier.load_encoder('my_awsome_encoder')"
      ],
      "execution_count": null,
      "outputs": [
        {
          "output_type": "execute_result",
          "data": {
            "text/plain": [
              "RNNLearner(data=TextClasDataBunch;\n",
              "\n",
              "Train: LabelList (3343 items)\n",
              "x: TextList\n",
              "xxbos xxup interflora - xxunk 's not too late to order xxmaj interflora xxunk for christmas call 0800 xxunk to place your order before xxmaj midnight tomorrow .,xxbos i dunno lei ... xxmaj like dun haf ...,xxbos xxmaj xxunk , xxunk , xxunk post , xxunk dis , < # > .,xxbos xxmaj yeah , i 'll leave in a couple minutes & & let you know when i get to mu,xxbos meet you in xxunk st outside gap … you can see how my mind is working !\n",
              "y: CategoryList\n",
              "spam,ham,ham,ham,ham\n",
              "Path: .;\n",
              "\n",
              "Valid: LabelList (1114 items)\n",
              "x: TextList\n",
              "xxbos :( but your not here xxrep 4 .,xxbos xxmaj haha better late than ever , any way i could swing by ?,xxbos xxmaj finally it has happened .. ! xxmaj aftr xxunk .. ! xxup xxunk is now cheaper than xxup xxunk ! xxmaj the xxunk xxunk us to \" xxup drink \" . . . xxmaj but do n't \" xxup drive \",xxbos i only haf xxunk . xxmaj it 's xxunk,xxbos xxmaj do nt think you need xxunk card for uk travel . xxmaj ask someone that has gone before . xxmaj if you do its just < # > bucks\n",
              "y: CategoryList\n",
              "ham,ham,ham,ham,ham\n",
              "Path: .;\n",
              "\n",
              "Test: None, model=SequentialRNN(\n",
              "  (0): MultiBatchEncoder(\n",
              "    (module): AWD_LSTM(\n",
              "      (encoder): Embedding(3080, 400, padding_idx=1)\n",
              "      (encoder_dp): EmbeddingDropout(\n",
              "        (emb): Embedding(3080, 400, padding_idx=1)\n",
              "      )\n",
              "      (rnns): ModuleList(\n",
              "        (0): WeightDropout(\n",
              "          (module): LSTM(400, 1152, batch_first=True)\n",
              "        )\n",
              "        (1): WeightDropout(\n",
              "          (module): LSTM(1152, 1152, batch_first=True)\n",
              "        )\n",
              "        (2): WeightDropout(\n",
              "          (module): LSTM(1152, 400, batch_first=True)\n",
              "        )\n",
              "      )\n",
              "      (input_dp): RNNDropout()\n",
              "      (hidden_dps): ModuleList(\n",
              "        (0): RNNDropout()\n",
              "        (1): RNNDropout()\n",
              "        (2): RNNDropout()\n",
              "      )\n",
              "    )\n",
              "  )\n",
              "  (1): PoolingLinearClassifier(\n",
              "    (layers): Sequential(\n",
              "      (0): BatchNorm1d(1200, eps=1e-05, momentum=0.1, affine=True, track_running_stats=True)\n",
              "      (1): Dropout(p=0.27999999999999997, inplace=False)\n",
              "      (2): Linear(in_features=1200, out_features=50, bias=True)\n",
              "      (3): ReLU(inplace=True)\n",
              "      (4): BatchNorm1d(50, eps=1e-05, momentum=0.1, affine=True, track_running_stats=True)\n",
              "      (5): Dropout(p=0.1, inplace=False)\n",
              "      (6): Linear(in_features=50, out_features=2, bias=True)\n",
              "    )\n",
              "  )\n",
              "), opt_func=functools.partial(<class 'torch.optim.adam.Adam'>, betas=(0.9, 0.99)), loss_func=FlattenedLoss of CrossEntropyLoss(), metrics=[<function accuracy at 0x7f9f3231af80>], true_wd=True, bn_wd=True, wd=0.01, train_bn=True, path=PosixPath('.'), model_dir='models', callback_fns=[functools.partial(<class 'fastai.basic_train.Recorder'>, add_time=True, silent=False)], callbacks=[RNNTrainer\n",
              "learn: ...\n",
              "alpha: 2.0\n",
              "beta: 1.0], layer_groups=[Sequential(\n",
              "  (0): Embedding(3080, 400, padding_idx=1)\n",
              "  (1): EmbeddingDropout(\n",
              "    (emb): Embedding(3080, 400, padding_idx=1)\n",
              "  )\n",
              "), Sequential(\n",
              "  (0): WeightDropout(\n",
              "    (module): LSTM(400, 1152, batch_first=True)\n",
              "  )\n",
              "  (1): RNNDropout()\n",
              "), Sequential(\n",
              "  (0): WeightDropout(\n",
              "    (module): LSTM(1152, 1152, batch_first=True)\n",
              "  )\n",
              "  (1): RNNDropout()\n",
              "), Sequential(\n",
              "  (0): WeightDropout(\n",
              "    (module): LSTM(1152, 400, batch_first=True)\n",
              "  )\n",
              "  (1): RNNDropout()\n",
              "), Sequential(\n",
              "  (0): PoolingLinearClassifier(\n",
              "    (layers): Sequential(\n",
              "      (0): BatchNorm1d(1200, eps=1e-05, momentum=0.1, affine=True, track_running_stats=True)\n",
              "      (1): Dropout(p=0.27999999999999997, inplace=False)\n",
              "      (2): Linear(in_features=1200, out_features=50, bias=True)\n",
              "      (3): ReLU(inplace=True)\n",
              "      (4): BatchNorm1d(50, eps=1e-05, momentum=0.1, affine=True, track_running_stats=True)\n",
              "      (5): Dropout(p=0.1, inplace=False)\n",
              "      (6): Linear(in_features=50, out_features=2, bias=True)\n",
              "    )\n",
              "  )\n",
              ")], add_time=True, silent=False)"
            ]
          },
          "metadata": {},
          "execution_count": 62
        }
      ]
    },
    {
      "cell_type": "code",
      "metadata": {
        "id": "yQzxgvqSTjHi",
        "colab": {
          "base_uri": "https://localhost:8080/",
          "height": 482
        },
        "outputId": "37a5a355-f6bf-4061-f264-adb8d51993a1"
      },
      "source": [
        "# train classifier\n",
        "learn_classifier.lr_find()\n",
        "learn_classifier.recorder.plot(suggestion=True)"
      ],
      "execution_count": null,
      "outputs": [
        {
          "output_type": "display_data",
          "data": {
            "text/html": [
              "\n",
              "    <div>\n",
              "        <style>\n",
              "            /* Turns off some styling */\n",
              "            progress {\n",
              "                /* gets rid of default border in Firefox and Opera. */\n",
              "                border: none;\n",
              "                /* Needs to be in here for Safari polyfill so background images work as expected. */\n",
              "                background-size: auto;\n",
              "            }\n",
              "            .progress-bar-interrupted, .progress-bar-interrupted::-webkit-progress-bar {\n",
              "                background: #F44336;\n",
              "            }\n",
              "        </style>\n",
              "      <progress value='0' class='' max='1' style='width:300px; height:20px; vertical-align: middle;'></progress>\n",
              "      0.00% [0/1 00:00<00:00]\n",
              "    </div>\n",
              "    \n",
              "<table border=\"1\" class=\"dataframe\">\n",
              "  <thead>\n",
              "    <tr style=\"text-align: left;\">\n",
              "      <th>epoch</th>\n",
              "      <th>train_loss</th>\n",
              "      <th>valid_loss</th>\n",
              "      <th>accuracy</th>\n",
              "      <th>time</th>\n",
              "    </tr>\n",
              "  </thead>\n",
              "  <tbody>\n",
              "  </tbody>\n",
              "</table><p>\n",
              "\n",
              "    <div>\n",
              "        <style>\n",
              "            /* Turns off some styling */\n",
              "            progress {\n",
              "                /* gets rid of default border in Firefox and Opera. */\n",
              "                border: none;\n",
              "                /* Needs to be in here for Safari polyfill so background images work as expected. */\n",
              "                background-size: auto;\n",
              "            }\n",
              "            .progress-bar-interrupted, .progress-bar-interrupted::-webkit-progress-bar {\n",
              "                background: #F44336;\n",
              "            }\n",
              "        </style>\n",
              "      <progress value='88' class='' max='104' style='width:300px; height:20px; vertical-align: middle;'></progress>\n",
              "      84.62% [88/104 00:04<00:00 1.5647]\n",
              "    </div>\n",
              "    "
            ],
            "text/plain": [
              "<IPython.core.display.HTML object>"
            ]
          },
          "metadata": {}
        },
        {
          "output_type": "stream",
          "name": "stderr",
          "text": [
            "/usr/local/lib/python3.7/dist-packages/numpy/core/_asarray.py:83: VisibleDeprecationWarning: Creating an ndarray from ragged nested sequences (which is a list-or-tuple of lists-or-tuples-or ndarrays with different lengths or shapes) is deprecated. If you meant to do this, you must specify 'dtype=object' when creating the ndarray\n",
            "  return array(a, dtype, copy=False, order=order)\n",
            "<string>:6: VisibleDeprecationWarning: Creating an ndarray from ragged nested sequences (which is a list-or-tuple of lists-or-tuples-or ndarrays with different lengths or shapes) is deprecated. If you meant to do this, you must specify 'dtype=object' when creating the ndarray\n"
          ]
        },
        {
          "output_type": "stream",
          "name": "stdout",
          "text": [
            "LR Finder is complete, type {learner_name}.recorder.plot() to see the graph.\n",
            "Min numerical gradient: 1.74E-01\n",
            "Min loss divided by 10: 4.37E-02\n"
          ]
        },
        {
          "output_type": "display_data",
          "data": {
            "image/png": "[encoded data removed]",
            "text/plain": [
              "<Figure size 432x288 with 1 Axes>"
            ]
          },
          "metadata": {
            "needs_background": "light"
          }
        }
      ]
    },
    {
      "cell_type": "code",
      "metadata": {
        "id": "7boiRtwsTjHi",
        "colab": {
          "base_uri": "https://localhost:8080/",
          "height": 487
        },
        "outputId": "88352277-5a1a-44c4-bd80-a78a6b42c497"
      },
      "source": [
        "learn_classifier.fit_one_cycle(5, max_lr=1e-2, moms=(0.8,0.7))"
      ],
      "execution_count": null,
      "outputs": [
        {
          "output_type": "display_data",
          "data": {
            "text/html": [
              "<table border=\"1\" class=\"dataframe\">\n",
              "  <thead>\n",
              "    <tr style=\"text-align: left;\">\n",
              "      <th>epoch</th>\n",
              "      <th>train_loss</th>\n",
              "      <th>valid_loss</th>\n",
              "      <th>accuracy</th>\n",
              "      <th>time</th>\n",
              "    </tr>\n",
              "  </thead>\n",
              "  <tbody>\n",
              "    <tr>\n",
              "      <td>0</td>\n",
              "      <td>0.429035</td>\n",
              "      <td>0.109293</td>\n",
              "      <td>0.977558</td>\n",
              "      <td>00:07</td>\n",
              "    </tr>\n",
              "    <tr>\n",
              "      <td>1</td>\n",
              "      <td>0.205558</td>\n",
              "      <td>0.095035</td>\n",
              "      <td>0.983842</td>\n",
              "      <td>00:07</td>\n",
              "    </tr>\n",
              "    <tr>\n",
              "      <td>2</td>\n",
              "      <td>0.138852</td>\n",
              "      <td>0.084436</td>\n",
              "      <td>0.984740</td>\n",
              "      <td>00:07</td>\n",
              "    </tr>\n",
              "    <tr>\n",
              "      <td>3</td>\n",
              "      <td>0.127634</td>\n",
              "      <td>0.078074</td>\n",
              "      <td>0.986535</td>\n",
              "      <td>00:07</td>\n",
              "    </tr>\n",
              "    <tr>\n",
              "      <td>4</td>\n",
              "      <td>0.094267</td>\n",
              "      <td>0.082424</td>\n",
              "      <td>0.985637</td>\n",
              "      <td>00:06</td>\n",
              "    </tr>\n",
              "  </tbody>\n",
              "</table>"
            ],
            "text/plain": [
              "<IPython.core.display.HTML object>"
            ]
          },
          "metadata": {}
        },
        {
          "output_type": "stream",
          "name": "stderr",
          "text": [
            "/usr/local/lib/python3.7/dist-packages/numpy/core/_asarray.py:83: VisibleDeprecationWarning: Creating an ndarray from ragged nested sequences (which is a list-or-tuple of lists-or-tuples-or ndarrays with different lengths or shapes) is deprecated. If you meant to do this, you must specify 'dtype=object' when creating the ndarray\n",
            "  return array(a, dtype, copy=False, order=order)\n",
            "<string>:6: VisibleDeprecationWarning: Creating an ndarray from ragged nested sequences (which is a list-or-tuple of lists-or-tuples-or ndarrays with different lengths or shapes) is deprecated. If you meant to do this, you must specify 'dtype=object' when creating the ndarray\n",
            "/usr/local/lib/python3.7/dist-packages/numpy/core/_asarray.py:83: VisibleDeprecationWarning: Creating an ndarray from ragged nested sequences (which is a list-or-tuple of lists-or-tuples-or ndarrays with different lengths or shapes) is deprecated. If you meant to do this, you must specify 'dtype=object' when creating the ndarray\n",
            "  return array(a, dtype, copy=False, order=order)\n",
            "<string>:6: VisibleDeprecationWarning: Creating an ndarray from ragged nested sequences (which is a list-or-tuple of lists-or-tuples-or ndarrays with different lengths or shapes) is deprecated. If you meant to do this, you must specify 'dtype=object' when creating the ndarray\n",
            "/usr/local/lib/python3.7/dist-packages/numpy/core/_asarray.py:83: VisibleDeprecationWarning: Creating an ndarray from ragged nested sequences (which is a list-or-tuple of lists-or-tuples-or ndarrays with different lengths or shapes) is deprecated. If you meant to do this, you must specify 'dtype=object' when creating the ndarray\n",
            "  return array(a, dtype, copy=False, order=order)\n",
            "<string>:6: VisibleDeprecationWarning: Creating an ndarray from ragged nested sequences (which is a list-or-tuple of lists-or-tuples-or ndarrays with different lengths or shapes) is deprecated. If you meant to do this, you must specify 'dtype=object' when creating the ndarray\n",
            "/usr/local/lib/python3.7/dist-packages/numpy/core/_asarray.py:83: VisibleDeprecationWarning: Creating an ndarray from ragged nested sequences (which is a list-or-tuple of lists-or-tuples-or ndarrays with different lengths or shapes) is deprecated. If you meant to do this, you must specify 'dtype=object' when creating the ndarray\n",
            "  return array(a, dtype, copy=False, order=order)\n",
            "<string>:6: VisibleDeprecationWarning: Creating an ndarray from ragged nested sequences (which is a list-or-tuple of lists-or-tuples-or ndarrays with different lengths or shapes) is deprecated. If you meant to do this, you must specify 'dtype=object' when creating the ndarray\n",
            "/usr/local/lib/python3.7/dist-packages/numpy/core/_asarray.py:83: VisibleDeprecationWarning: Creating an ndarray from ragged nested sequences (which is a list-or-tuple of lists-or-tuples-or ndarrays with different lengths or shapes) is deprecated. If you meant to do this, you must specify 'dtype=object' when creating the ndarray\n",
            "  return array(a, dtype, copy=False, order=order)\n",
            "<string>:6: VisibleDeprecationWarning: Creating an ndarray from ragged nested sequences (which is a list-or-tuple of lists-or-tuples-or ndarrays with different lengths or shapes) is deprecated. If you meant to do this, you must specify 'dtype=object' when creating the ndarray\n"
          ]
        }
      ]
    },
    {
      "cell_type": "code",
      "metadata": {
        "id": "ToR6na02TjHi",
        "colab": {
          "base_uri": "https://localhost:8080/",
          "height": 280
        },
        "outputId": "c6b644e9-78f6-4d71-d6d7-15027c9e50cc"
      },
      "source": [
        "learn_classifier.recorder.plot_losses()"
      ],
      "execution_count": null,
      "outputs": [
        {
          "output_type": "display_data",
          "data": {
            "image/png": "[encoded data removed]",
            "text/plain": [
              "<Figure size 432x288 with 1 Axes>"
            ]
          },
          "metadata": {
            "needs_background": "light"
          }
        }
      ]
    },
    {
      "cell_type": "code",
      "metadata": {
        "id": "BLHJl3oQTjHi",
        "colab": {
          "base_uri": "https://localhost:8080/",
          "height": 482
        },
        "outputId": "0beae11a-47cb-4c4c-d3aa-b6da78bcc384"
      },
      "source": [
        "lang_mod.freeze_to(-1)\n",
        "\n",
        "learn_classifier.lr_find()\n",
        "learn_classifier.recorder.plot(suggestion=True)"
      ],
      "execution_count": null,
      "outputs": [
        {
          "output_type": "display_data",
          "data": {
            "text/html": [
              "\n",
              "    <div>\n",
              "        <style>\n",
              "            /* Turns off some styling */\n",
              "            progress {\n",
              "                /* gets rid of default border in Firefox and Opera. */\n",
              "                border: none;\n",
              "                /* Needs to be in here for Safari polyfill so background images work as expected. */\n",
              "                background-size: auto;\n",
              "            }\n",
              "            .progress-bar-interrupted, .progress-bar-interrupted::-webkit-progress-bar {\n",
              "                background: #F44336;\n",
              "            }\n",
              "        </style>\n",
              "      <progress value='0' class='' max='1' style='width:300px; height:20px; vertical-align: middle;'></progress>\n",
              "      0.00% [0/1 00:00<00:00]\n",
              "    </div>\n",
              "    \n",
              "<table border=\"1\" class=\"dataframe\">\n",
              "  <thead>\n",
              "    <tr style=\"text-align: left;\">\n",
              "      <th>epoch</th>\n",
              "      <th>train_loss</th>\n",
              "      <th>valid_loss</th>\n",
              "      <th>accuracy</th>\n",
              "      <th>time</th>\n",
              "    </tr>\n",
              "  </thead>\n",
              "  <tbody>\n",
              "  </tbody>\n",
              "</table><p>\n",
              "\n",
              "    <div>\n",
              "        <style>\n",
              "            /* Turns off some styling */\n",
              "            progress {\n",
              "                /* gets rid of default border in Firefox and Opera. */\n",
              "                border: none;\n",
              "                /* Needs to be in here for Safari polyfill so background images work as expected. */\n",
              "                background-size: auto;\n",
              "            }\n",
              "            .progress-bar-interrupted, .progress-bar-interrupted::-webkit-progress-bar {\n",
              "                background: #F44336;\n",
              "            }\n",
              "        </style>\n",
              "      <progress value='82' class='' max='104' style='width:300px; height:20px; vertical-align: middle;'></progress>\n",
              "      78.85% [82/104 00:03<00:01 0.2295]\n",
              "    </div>\n",
              "    "
            ],
            "text/plain": [
              "<IPython.core.display.HTML object>"
            ]
          },
          "metadata": {}
        },
        {
          "output_type": "stream",
          "name": "stderr",
          "text": [
            "/usr/local/lib/python3.7/dist-packages/numpy/core/_asarray.py:83: VisibleDeprecationWarning: Creating an ndarray from ragged nested sequences (which is a list-or-tuple of lists-or-tuples-or ndarrays with different lengths or shapes) is deprecated. If you meant to do this, you must specify 'dtype=object' when creating the ndarray\n",
            "  return array(a, dtype, copy=False, order=order)\n",
            "<string>:6: VisibleDeprecationWarning: Creating an ndarray from ragged nested sequences (which is a list-or-tuple of lists-or-tuples-or ndarrays with different lengths or shapes) is deprecated. If you meant to do this, you must specify 'dtype=object' when creating the ndarray\n"
          ]
        },
        {
          "output_type": "stream",
          "name": "stdout",
          "text": [
            "LR Finder is complete, type {learner_name}.recorder.plot() to see the graph.\n",
            "Min numerical gradient: 1.10E-06\n",
            "Min loss divided by 10: 1.00E-06\n"
          ]
        },
        {
          "output_type": "display_data",
          "data": {
            "image/png": "[encoded data removed]",
            "text/plain": [
              "<Figure size 432x288 with 1 Axes>"
            ]
          },
          "metadata": {
            "needs_background": "light"
          }
        }
      ]
    },
    {
      "cell_type": "markdown",
      "metadata": {
        "id": "ZyADkr6yTyG9"
      },
      "source": [
        "Test out the classification model on spam and non-spam examples."
      ]
    },
    {
      "cell_type": "code",
      "metadata": {
        "id": "Y_KKaOnrTjHj",
        "colab": {
          "base_uri": "https://localhost:8080/"
        },
        "outputId": "9c28de96-83d1-4b72-e8b7-7804b8ad3545"
      },
      "source": [
        "# predict\n",
        "learn_classifier.predict('did you buy the groceries for dinner? :)')"
      ],
      "execution_count": null,
      "outputs": [
        {
          "output_type": "execute_result",
          "data": {
            "text/plain": [
              "(Category tensor(0), tensor(0), tensor([0.9955, 0.0045]))"
            ]
          },
          "metadata": {},
          "execution_count": 67
        }
      ]
    },
    {
      "cell_type": "code",
      "metadata": {
        "id": "A8Xv4N9STjHj",
        "colab": {
          "base_uri": "https://localhost:8080/"
        },
        "outputId": "04936968-f685-4971-b1e7-291993f303db"
      },
      "source": [
        "# predict\n",
        "learn_classifier.predict('Free entry call back now')"
      ],
      "execution_count": null,
      "outputs": [
        {
          "output_type": "execute_result",
          "data": {
            "text/plain": [
              "(Category tensor(0), tensor(0), tensor([0.5357, 0.4643]))"
            ]
          },
          "metadata": {},
          "execution_count": 68
        }
      ]
    },
    {
      "cell_type": "markdown",
      "metadata": {
        "id": "gcUOVjveT8Xu"
      },
      "source": [
        "Next we will evaluate on all of our validation data."
      ]
    },
    {
      "cell_type": "code",
      "metadata": {
        "id": "jkvU1PvTTjHj",
        "colab": {
          "base_uri": "https://localhost:8080/",
          "height": 34
        },
        "outputId": "798f0b5a-ce1a-46a7-ecff-c9403eebe474"
      },
      "source": [
        "# get predictions from validation\n",
        "valid_preds, valid_label=learn_classifier.get_preds(ds_type=DatasetType.Valid, ordered=True)\n",
        "valid_preds.shape"
      ],
      "execution_count": null,
      "outputs": [
        {
          "output_type": "display_data",
          "data": {
            "text/html": [
              ""
            ],
            "text/plain": [
              "<IPython.core.display.HTML object>"
            ]
          },
          "metadata": {}
        },
        {
          "output_type": "execute_result",
          "data": {
            "text/plain": [
              "torch.Size([1114, 2])"
            ]
          },
          "metadata": {},
          "execution_count": 69
        }
      ]
    },
    {
      "cell_type": "markdown",
      "metadata": {
        "id": "s4UopYcrWw38"
      },
      "source": [
        "## Part 1. Evaluate Performance [10pt]\n",
        "\n",
        "### Part (a) [5pt]\n",
        "\n",
        "Implement the above helper code for spam detection. \n",
        "\n",
        "What is the accuracy obtained with ULMFiT? How does ULMFiT compare to the approach in the first part using only LSTM?"
      ]
    },
    {
      "cell_type": "code",
      "metadata": {
        "id": "hJFv4ywTWw4F"
      },
      "source": [
        "# add a column with the predictions on the test set\n",
        "\n",
        "df_test['spam_pred'] = df_test['text'].apply(lambda row:str(learn_classifier.predict(row)[0]))"
      ],
      "execution_count": null,
      "outputs": []
    },
    {
      "cell_type": "code",
      "metadata": {
        "id": "FM2b-gFMeg2M",
        "colab": {
          "base_uri": "https://localhost:8080/"
        },
        "outputId": "066d34e3-f93c-4e9d-ba6f-fdf9cf33d65f"
      },
      "source": [
        "# print the accuracy against the test set\n",
        "print(\"Accuracy: {}\".format(accuracy_score(df_test['target'],df_test['spam_pred'])*100))"
      ],
      "execution_count": null,
      "outputs": [
        {
          "output_type": "stream",
          "name": "stdout",
          "text": [
            "Accuracy: 98.65470852017937\n"
          ]
        }
      ]
    },
    {
      "cell_type": "code",
      "metadata": {
        "id": "uVDsz1bS_JP9"
      },
      "source": [
        "df_test1=df_test\n",
        "df_test1.to_csv('df_test1')"
      ],
      "execution_count": null,
      "outputs": []
    },
    {
      "cell_type": "code",
      "metadata": {
        "id": "KUPX0HTACiOy",
        "colab": {
          "base_uri": "https://localhost:8080/",
          "height": 206
        },
        "outputId": "27c4fc75-dc06-4c59-f00b-b2414b7e798b"
      },
      "source": [
        "df_test1.head()"
      ],
      "execution_count": null,
      "outputs": [
        {
          "output_type": "execute_result",
          "data": {
            "text/html": [
              "<div>\n",
              "<style scoped>\n",
              "    .dataframe tbody tr th:only-of-type {\n",
              "        vertical-align: middle;\n",
              "    }\n",
              "\n",
              "    .dataframe tbody tr th {\n",
              "        vertical-align: top;\n",
              "    }\n",
              "\n",
              "    .dataframe thead th {\n",
              "        text-align: right;\n",
              "    }\n",
              "</style>\n",
              "<table border=\"1\" class=\"dataframe\">\n",
              "  <thead>\n",
              "    <tr style=\"text-align: right;\">\n",
              "      <th></th>\n",
              "      <th>target</th>\n",
              "      <th>text</th>\n",
              "      <th>spam_pred</th>\n",
              "    </tr>\n",
              "  </thead>\n",
              "  <tbody>\n",
              "    <tr>\n",
              "      <th>4559</th>\n",
              "      <td>ham</td>\n",
              "      <td>PISS IS TALKING IS SOMEONE THAT REALISE U THAT...</td>\n",
              "      <td>ham</td>\n",
              "    </tr>\n",
              "    <tr>\n",
              "      <th>3544</th>\n",
              "      <td>ham</td>\n",
              "      <td>I'm e person who's doing e sms survey...</td>\n",
              "      <td>ham</td>\n",
              "    </tr>\n",
              "    <tr>\n",
              "      <th>5489</th>\n",
              "      <td>ham</td>\n",
              "      <td>Oh thanks a lot..i already bought 2 eggs ..</td>\n",
              "      <td>ham</td>\n",
              "    </tr>\n",
              "    <tr>\n",
              "      <th>382</th>\n",
              "      <td>ham</td>\n",
              "      <td>Yeah sure, give me a couple minutes to track d...</td>\n",
              "      <td>ham</td>\n",
              "    </tr>\n",
              "    <tr>\n",
              "      <th>836</th>\n",
              "      <td>ham</td>\n",
              "      <td>Good Morning my Dear........... Have a great &amp;...</td>\n",
              "      <td>ham</td>\n",
              "    </tr>\n",
              "  </tbody>\n",
              "</table>\n",
              "</div>"
            ],
            "text/plain": [
              "     target                                               text spam_pred\n",
              "4559    ham  PISS IS TALKING IS SOMEONE THAT REALISE U THAT...       ham\n",
              "3544    ham           I'm e person who's doing e sms survey...       ham\n",
              "5489    ham        Oh thanks a lot..i already bought 2 eggs ..       ham\n",
              "382     ham  Yeah sure, give me a couple minutes to track d...       ham\n",
              "836     ham  Good Morning my Dear........... Have a great &...       ham"
            ]
          },
          "metadata": {},
          "execution_count": 73
        }
      ]
    },
    {
      "cell_type": "code",
      "metadata": {
        "id": "997S_KlPCsN2"
      },
      "source": [
        "fields = [('target', label_field), ('text', text_field)]"
      ],
      "execution_count": null,
      "outputs": []
    },
    {
      "cell_type": "code",
      "metadata": {
        "id": "hHRdgbvN_FO_"
      },
      "source": [
        "dataset_test = torchtext.legacy.data.TabularDataset(\"/content/df_test1\", # name of the file\n",
        "                                              \"csv\",               # fields are separated by a tab\n",
        "                                              fields)"
      ],
      "execution_count": null,
      "outputs": []
    },
    {
      "cell_type": "code",
      "metadata": {
        "id": "K7kpjEIA_FL0"
      },
      "source": [
        "test_iter1 = torchtext.legacy.data.BucketIterator(dataset_test, \n",
        "                                              batch_size=len(dataset_test)-1, \n",
        "                                              sort_key=lambda x: len(x.text), \n",
        "                                              sort_within_batch=True,\n",
        "                                              repeat=False)"
      ],
      "execution_count": null,
      "outputs": []
    },
    {
      "cell_type": "code",
      "metadata": {
        "id": "DsLlGvfQ1Bik"
      },
      "source": [
        "#Defining a function to predict the label of the text message in the dataframe\n",
        "def testing(message):\n",
        "  out = torch.sigmoid(model3(new_msg.unsqueeze(0)))\n",
        "  pred = out.max(1, keepdim=True)[1]\n",
        " \n",
        "  predict = pred.item()\n",
        "  return predict"
      ],
      "execution_count": null,
      "outputs": []
    },
    {
      "cell_type": "code",
      "metadata": {
        "id": "QolKVoth24FY"
      },
      "source": [
        "df_test1['spam_pred_custom_model'] = df_test1['text'].apply(lambda row:str(testing(row)))"
      ],
      "execution_count": null,
      "outputs": []
    },
    {
      "cell_type": "code",
      "metadata": {
        "colab": {
          "base_uri": "https://localhost:8080/",
          "height": 206
        },
        "id": "cvGimelT24B8",
        "outputId": "60f356c5-5291-404f-f4f2-6e8fe64fac68"
      },
      "source": [
        "df_test1.head()"
      ],
      "execution_count": null,
      "outputs": [
        {
          "output_type": "execute_result",
          "data": {
            "text/html": [
              "<div>\n",
              "<style scoped>\n",
              "    .dataframe tbody tr th:only-of-type {\n",
              "        vertical-align: middle;\n",
              "    }\n",
              "\n",
              "    .dataframe tbody tr th {\n",
              "        vertical-align: top;\n",
              "    }\n",
              "\n",
              "    .dataframe thead th {\n",
              "        text-align: right;\n",
              "    }\n",
              "</style>\n",
              "<table border=\"1\" class=\"dataframe\">\n",
              "  <thead>\n",
              "    <tr style=\"text-align: right;\">\n",
              "      <th></th>\n",
              "      <th>target</th>\n",
              "      <th>text</th>\n",
              "      <th>spam_pred</th>\n",
              "      <th>spam_pred_custom_model</th>\n",
              "    </tr>\n",
              "  </thead>\n",
              "  <tbody>\n",
              "    <tr>\n",
              "      <th>4559</th>\n",
              "      <td>ham</td>\n",
              "      <td>PISS IS TALKING IS SOMEONE THAT REALISE U THAT...</td>\n",
              "      <td>ham</td>\n",
              "      <td>1</td>\n",
              "    </tr>\n",
              "    <tr>\n",
              "      <th>3544</th>\n",
              "      <td>ham</td>\n",
              "      <td>I'm e person who's doing e sms survey...</td>\n",
              "      <td>ham</td>\n",
              "      <td>1</td>\n",
              "    </tr>\n",
              "    <tr>\n",
              "      <th>5489</th>\n",
              "      <td>ham</td>\n",
              "      <td>Oh thanks a lot..i already bought 2 eggs ..</td>\n",
              "      <td>ham</td>\n",
              "      <td>1</td>\n",
              "    </tr>\n",
              "    <tr>\n",
              "      <th>382</th>\n",
              "      <td>ham</td>\n",
              "      <td>Yeah sure, give me a couple minutes to track d...</td>\n",
              "      <td>ham</td>\n",
              "      <td>1</td>\n",
              "    </tr>\n",
              "    <tr>\n",
              "      <th>836</th>\n",
              "      <td>ham</td>\n",
              "      <td>Good Morning my Dear........... Have a great &amp;...</td>\n",
              "      <td>ham</td>\n",
              "      <td>1</td>\n",
              "    </tr>\n",
              "  </tbody>\n",
              "</table>\n",
              "</div>"
            ],
            "text/plain": [
              "     target  ... spam_pred_custom_model\n",
              "4559    ham  ...                      1\n",
              "3544    ham  ...                      1\n",
              "5489    ham  ...                      1\n",
              "382     ham  ...                      1\n",
              "836     ham  ...                      1\n",
              "\n",
              "[5 rows x 4 columns]"
            ]
          },
          "metadata": {},
          "execution_count": 79
        }
      ]
    },
    {
      "cell_type": "code",
      "metadata": {
        "id": "0hPdiHXm33rK"
      },
      "source": [
        "df_pred=df_test1['spam_pred_custom_model'].replace({'1':'ham','0':'spam'})"
      ],
      "execution_count": null,
      "outputs": []
    },
    {
      "cell_type": "code",
      "metadata": {
        "colab": {
          "base_uri": "https://localhost:8080/"
        },
        "id": "H3RFn-nr408M",
        "outputId": "f8d27ec9-0a3c-4d52-bf24-7f8fb9bc53f9"
      },
      "source": [
        "df_pred.head()"
      ],
      "execution_count": null,
      "outputs": [
        {
          "output_type": "execute_result",
          "data": {
            "text/plain": [
              "4559    ham\n",
              "3544    ham\n",
              "5489    ham\n",
              "382     ham\n",
              "836     ham\n",
              "Name: spam_pred_custom_model, dtype: object"
            ]
          },
          "metadata": {},
          "execution_count": 81
        }
      ]
    },
    {
      "cell_type": "code",
      "metadata": {
        "id": "dmMf8P9NN_st"
      },
      "source": [
        "df_true = df_test['target']"
      ],
      "execution_count": null,
      "outputs": []
    },
    {
      "cell_type": "code",
      "metadata": {
        "colab": {
          "base_uri": "https://localhost:8080/"
        },
        "id": "TCK8Rmqo4XWm",
        "outputId": "449d13eb-b439-4c3f-eb81-7c1921bfb734"
      },
      "source": [
        "# print the accuracy against the test set\n",
        "print(\"Accuracy: {}\".format((accuracy_score(df_pred,df_true))*100))"
      ],
      "execution_count": null,
      "outputs": [
        {
          "output_type": "stream",
          "name": "stdout",
          "text": [
            "Accuracy: 86.54708520179372\n"
          ]
        }
      ]
    },
    {
      "cell_type": "markdown",
      "metadata": {
        "id": "ybdyEKx5Ww4F"
      },
      "source": [
        "### Part (b) [5pt]\n",
        "Provide a confusion matrix of the performance for the two models. How do they compare? Are there any qualitative differences between the performances (i.e. examine the samples for which the models differred)?"
      ]
    },
    {
      "cell_type": "code",
      "metadata": {
        "id": "vuxLCHhFWw4F"
      },
      "source": [
        "import matplotlib.pyplot as plt\n",
        "# Taken from the scikit-learn documentation\n",
        "def plot_confusion_matrix(y_true, y_pred, classes,\n",
        "                          normalize=False,\n",
        "                          title=None,\n",
        "                          cmap=plt.cm.Blues):\n",
        "    \"\"\"\n",
        "    This function prints and plots the confusion matrix.\n",
        "    Normalization can be applied by setting `normalize=True`.\n",
        "    \"\"\"\n",
        "    if not title:\n",
        "        if normalize:\n",
        "            title = 'Normalized confusion matrix'\n",
        "        else:\n",
        "            title = 'Confusion matrix, without normalization'\n",
        "\n",
        "    # Compute confusion matrix\n",
        "    cm = confusion_matrix(y_true, y_pred)\n",
        "    # Only use the labels that appear in the data\n",
        "    #classes = classes[unique_labels(y_true, y_pred)]\n",
        "\n",
        "    fig, ax = plt.subplots()\n",
        "    im = ax.imshow(cm, interpolation='nearest', cmap=cmap)\n",
        "    ax.figure.colorbar(im, ax=ax)\n",
        "    # We want to show all ticks...\n",
        "    ax.set(xticks=np.arange(cm.shape[1]),\n",
        "           yticks=np.arange(cm.shape[0]),\n",
        "           # ... and label them with the respective list entries\n",
        "           xticklabels=classes, yticklabels=classes,\n",
        "           title=title,\n",
        "           ylabel='True label',\n",
        "           xlabel='Predicted label')\n",
        "\n",
        "    # Rotate the tick labels and set their alignment.\n",
        "    plt.setp(ax.get_xticklabels(), rotation=45, ha=\"right\",\n",
        "             rotation_mode=\"anchor\")\n",
        "\n",
        "    # Loop over data dimensions and create text annotations.\n",
        "    fmt = '.2f' if normalize else 'd'\n",
        "    thresh = cm.max() / 2.\n",
        "    for i in range(cm.shape[0]):\n",
        "        for j in range(cm.shape[1]):\n",
        "            ax.text(j, i, format(cm[i, j], fmt),\n",
        "                    ha=\"center\", va=\"center\",\n",
        "                    color=\"white\" if cm[i, j] > thresh else \"black\")\n",
        "    fig.tight_layout()\n",
        "    return ax"
      ],
      "execution_count": null,
      "outputs": []
    },
    {
      "cell_type": "code",
      "metadata": {
        "id": "GkMr4FUcFcCb",
        "colab": {
          "base_uri": "https://localhost:8080/",
          "height": 297
        },
        "outputId": "144e6b3d-8d34-4e05-98b8-d369343467fa"
      },
      "source": [
        "# plot the confusion matrix for the test set\n",
        "plot_confusion_matrix(df_test['target'],df_test['spam_pred'],\n",
        "                      classes=['ham','spam'])\n",
        "plt.show()"
      ],
      "execution_count": null,
      "outputs": [
        {
          "output_type": "display_data",
          "data": {
            "image/png": "[encoded data removed]",
            "text/plain": [
              "<Figure size 432x288 with 2 Axes>"
            ]
          },
          "metadata": {
            "needs_background": "light"
          }
        }
      ]
    },
    {
      "cell_type": "code",
      "metadata": {
        "id": "alw62S0KFb9y",
        "colab": {
          "base_uri": "https://localhost:8080/",
          "height": 297
        },
        "outputId": "689c8185-8515-4533-9f01-931ff2db3447"
      },
      "source": [
        "# plot the confusion matrix for the test set\n",
        "plot_confusion_matrix(df_pred,df_true,\n",
        "                      classes=['ham','spam'])\n",
        "plt.show()"
      ],
      "execution_count": null,
      "outputs": [
        {
          "output_type": "display_data",
          "data": {
            "image/png": "[encoded data removed]",
            "text/plain": [
              "<Figure size 432x288 with 2 Axes>"
            ]
          },
          "metadata": {
            "needs_background": "light"
          }
        }
      ]
    },
    {
      "cell_type": "markdown",
      "metadata": {
        "id": "o_OeQ7287H2k"
      },
      "source": [
        "Both the models have very comparable performances. The custom one results in detecting 0 spam messages but the transfer learning model can detect resonable ones. \n",
        "\n",
        "The reason for the bad result of the custom model can be :   \n",
        "1. Less varinace of spam training set data\n",
        "2. More complex model and more tuning strategy requirement\n",
        "3. Multiple splitting and data leakage"
      ]
    },
    {
      "cell_type": "markdown",
      "metadata": {
        "id": "F9BpSLGBWw4F"
      },
      "source": [
        "## Part 2. Evaluate on New Data [10pt]\n",
        "\n",
        "### Part (a) [4pt]\n",
        "What is your model's prediction of the probability that the SMS message \"machine learning is sooo cool!\" is spam?"
      ]
    },
    {
      "cell_type": "code",
      "metadata": {
        "id": "Ho0F4VMCnzXR",
        "colab": {
          "base_uri": "https://localhost:8080/"
        },
        "outputId": "a4ca29a4-e998-420d-91ee-85159427ce80"
      },
      "source": [
        "# predict\n",
        "learn_classifier.predict('machine learning is sooo cool!\"')"
      ],
      "execution_count": null,
      "outputs": [
        {
          "output_type": "execute_result",
          "data": {
            "text/plain": [
              "(Category tensor(0), tensor(0), tensor([1.0000e+00, 1.1438e-06]))"
            ]
          },
          "metadata": {},
          "execution_count": 92
        }
      ]
    },
    {
      "cell_type": "markdown",
      "metadata": {
        "id": "YRTh4JcxzE2n"
      },
      "source": [
        "No spam prediction!!!"
      ]
    },
    {
      "cell_type": "markdown",
      "metadata": {
        "id": "H4FlSj_Mn2yY"
      },
      "source": [
        "### Part (b) [3 pt] \n",
        "Load 5 sample sentences from your spam mail and test it out out the two models you created. How well do they perform?"
      ]
    },
    {
      "cell_type": "code",
      "metadata": {
        "id": "y3DCyMW_n05f",
        "colab": {
          "base_uri": "https://localhost:8080/"
        },
        "outputId": "1eec59e9-3bc2-42e2-ee0f-a1447ce7c1f3"
      },
      "source": [
        "email1= \"Subject: jump in to gain substantial ground immediatelyvwe are very excited about this new upcoming stock about to explode montana oil and gas , inc . ( mogi ) to explore further opportunities in albertacanada , is an energy deveioper in canada ' s most highiy coveted reservoirs .aggressive investors and traders may want to watch montana oi | and gasagain this morning ! montana oil and gas inc . ( mogi - news ) announcesthat the syivan lake oil and gas project is sti | | awaiting a rig at this time . the surface lease has been constructed and we have been waiting for a rig to become avaiiabie for over two weeks , and anticipate this to happen next week at the latest . the company has a 25 % working interest in the syivan lake project . symbo | - mogi current price - . 26 reasons to consider mogi \"\n",
        "\n",
        "#ULMFiT model\n",
        "# predict\n",
        "learn_classifier.predict(email1)"
      ],
      "execution_count": null,
      "outputs": [
        {
          "output_type": "execute_result",
          "data": {
            "text/plain": [
              "(Category tensor(0), tensor(0), tensor([0.7302, 0.2698]))"
            ]
          },
          "metadata": {},
          "execution_count": 93
        }
      ]
    },
    {
      "cell_type": "code",
      "metadata": {
        "id": "mf9jNDzyzRuE",
        "colab": {
          "base_uri": "https://localhost:8080/"
        },
        "outputId": "265ce551-b6d4-41a8-98df-74ed12e80a5d"
      },
      "source": [
        "# Part A model\n",
        "new_msg = get_new_msg(email1)\n",
        "\n",
        "out = torch.sigmoid(model3(new_msg.unsqueeze(0)))\n",
        "print(\"Spam Probability Distribution of message (No Spam , Spam):\",format(out))\n",
        "pred = out.max(1, keepdim=True)[1]\n",
        "\n",
        "print(pred)\n",
        "prediction = pred.item()\n",
        "if prediction > 0:\n",
        "  print(\"Spam Email\")\n",
        "else:\n",
        "  print(\"No Spam Email\")"
      ],
      "execution_count": null,
      "outputs": [
        {
          "output_type": "stream",
          "name": "stdout",
          "text": [
            "Spam Probability Distribution of message (No Spam , Spam): tensor([[0.9484, 0.0650]], grad_fn=<SigmoidBackward0>)\n",
            "tensor([[0]])\n",
            "No Spam Email\n"
          ]
        }
      ]
    },
    {
      "cell_type": "markdown",
      "metadata": {
        "id": "Rt5nFfX4PUXs"
      },
      "source": [
        "Both models predicted wrong"
      ]
    },
    {
      "cell_type": "code",
      "metadata": {
        "id": "Bj0ltjUpzLgj",
        "colab": {
          "base_uri": "https://localhost:8080/"
        },
        "outputId": "cb3f726a-2568-4f7c-e3da-7784d8ca9151"
      },
      "source": [
        "email2= \"Subject: jennifer sends them to their final destination . designated as a private key 4 . validate public keys .someone wants to meet you ! who your match could be , find here to the purported owner . you\"\n",
        "\n",
        "#ULMFiT model\n",
        "# predict\n",
        "print(learn_classifier.predict(email2))\n",
        "\n",
        "# Part A model\n",
        "new_msg = get_new_msg(email2)\n",
        "\n",
        "out = torch.sigmoid(model3(new_msg.unsqueeze(0)))\n",
        "print(\"Spam Probability Distribution of message (No Spam , Spam):\",format(out))\n",
        "pred = out.max(1, keepdim=True)[1]\n",
        "\n",
        "print(pred)\n",
        "prediction = pred.item()\n",
        "if prediction > 0:\n",
        "  print(\"Spam Email\")\n",
        "else:\n",
        "  print(\"No Spam Email\")"
      ],
      "execution_count": null,
      "outputs": [
        {
          "output_type": "stream",
          "name": "stdout",
          "text": [
            "(Category tensor(0), tensor(0), tensor([0.8535, 0.1465]))\n",
            "Spam Probability Distribution of message (No Spam , Spam): tensor([[0.9958, 0.0033]], grad_fn=<SigmoidBackward0>)\n",
            "tensor([[0]])\n",
            "No Spam Email\n"
          ]
        }
      ]
    },
    {
      "cell_type": "markdown",
      "metadata": {
        "id": "nGFz1-e0Paqb"
      },
      "source": [
        "Both models predicted wrong"
      ]
    },
    {
      "cell_type": "code",
      "metadata": {
        "id": "OavBXdS3zLbA",
        "colab": {
          "base_uri": "https://localhost:8080/"
        },
        "outputId": "4b288c25-6a3e-44bb-b2b2-3554e74b1288"
      },
      "source": [
        "email3= \"Dear Tuhin Ranjan, Get instant Cash Loan at Zero Percent Interest Rate\"\n",
        "#ULMFiT model\n",
        "# predict\n",
        "print(learn_classifier.predict(email3))\n",
        "\n",
        "# Part A model\n",
        "new_msg = get_new_msg(email3)\n",
        "\n",
        "out = torch.sigmoid(model3(new_msg.unsqueeze(0)))\n",
        "print(\"Spam Probability Distribution of message (No Spam , Spam):\",format(out))\n",
        "pred = out.max(1, keepdim=True)[1]\n",
        "\n",
        "print(pred)\n",
        "prediction = pred.item()\n",
        "if prediction > 0:\n",
        "  print(\"Spam Email\")\n",
        "else:\n",
        "  print(\"No Spam Email\")"
      ],
      "execution_count": null,
      "outputs": [
        {
          "output_type": "stream",
          "name": "stdout",
          "text": [
            "(Category tensor(0), tensor(0), tensor([0.5791, 0.4209]))\n",
            "Spam Probability Distribution of message (No Spam , Spam): tensor([[0.9898, 0.0107]], grad_fn=<SigmoidBackward0>)\n",
            "tensor([[0]])\n",
            "No Spam Email\n"
          ]
        }
      ]
    },
    {
      "cell_type": "markdown",
      "metadata": {
        "id": "qgjO54NtPcp5"
      },
      "source": [
        "Both models predicted wrong"
      ]
    },
    {
      "cell_type": "code",
      "metadata": {
        "id": "WcfM8c4QzLWP",
        "colab": {
          "base_uri": "https://localhost:8080/"
        },
        "outputId": "a0c3da1f-43d8-4a9c-f340-f9bf38fa5f50"
      },
      "source": [
        "email4= \"Get Apple iPhone 12 Pro Max Free*\"\n",
        "#ULMFiT model\n",
        "# predict\n",
        "print(learn_classifier.predict(email4))\n",
        "\n",
        "# Part A model\n",
        "new_msg = get_new_msg(email4)\n",
        "\n",
        "out = torch.sigmoid(model3(new_msg.unsqueeze(0)))\n",
        "print(\"Spam Probability Distribution of message (No Spam , Spam):\",format(out))\n",
        "pred = out.max(1, keepdim=True)[1]\n",
        "\n",
        "print(pred)\n",
        "prediction = pred.item()\n",
        "if prediction > 0:\n",
        "  print(\"Spam Email\")\n",
        "else:\n",
        "  print(\"No Spam Email\")"
      ],
      "execution_count": null,
      "outputs": [
        {
          "output_type": "stream",
          "name": "stdout",
          "text": [
            "(Category tensor(0), tensor(0), tensor([0.7625, 0.2375]))\n",
            "Spam Probability Distribution of message (No Spam , Spam): tensor([[0.9087, 0.0915]], grad_fn=<SigmoidBackward0>)\n",
            "tensor([[0]])\n",
            "No Spam Email\n"
          ]
        }
      ]
    },
    {
      "cell_type": "markdown",
      "metadata": {
        "id": "AnhkUOTHPekW"
      },
      "source": [
        "Both models predicted wrong"
      ]
    },
    {
      "cell_type": "code",
      "metadata": {
        "id": "Z4elFTXAzLRD",
        "colab": {
          "base_uri": "https://localhost:8080/"
        },
        "outputId": "b8970f48-9739-481a-921d-5fbc3d34210e"
      },
      "source": [
        "email5= \"I am not into playing games or wasting mine or your time. I am REAL!!(THAT IS ME IN ALL OF MY PICS!). I am respectful; I am discreet; and I am FUN! So, if you want to come hang out, talk, get a massage, etc., I'll be waiting to hear from you!  MASSAGE ME HERE> http://www.xaxnv.com/aff_c?offer_id=14334&aff_id=20485&aff_sub=Subel.xx Its Free just verify your email and give me direct call\"\n",
        "\n",
        "#ULMFiT model\n",
        "# predict\n",
        "print(learn_classifier.predict(email5))\n",
        "\n",
        "# Part A model\n",
        "new_msg = get_new_msg(email5)\n",
        "\n",
        "out = torch.sigmoid(model3(new_msg.unsqueeze(0)))\n",
        "print(\"Spam Probability Distribution of message (No Spam , Spam):\",format(out))\n",
        "pred = out.max(1, keepdim=True)[1]\n",
        "\n",
        "print(pred)\n",
        "prediction = pred.item()\n",
        "if prediction > 0:\n",
        "  print(\"Spam Email\")\n",
        "else:\n",
        "  print(\"No Spam Email\")"
      ],
      "execution_count": null,
      "outputs": [
        {
          "output_type": "stream",
          "name": "stdout",
          "text": [
            "(Category tensor(1), tensor(1), tensor([0.2693, 0.7307]))\n",
            "Spam Probability Distribution of message (No Spam , Spam): tensor([[0.0173, 0.9930]], grad_fn=<SigmoidBackward0>)\n",
            "tensor([[1]])\n",
            "Spam Email\n"
          ]
        }
      ]
    },
    {
      "cell_type": "markdown",
      "metadata": {
        "id": "8tG124UEPhIq"
      },
      "source": [
        "Both models predicted right"
      ]
    },
    {
      "cell_type": "markdown",
      "metadata": {
        "id": "646WjsAwWw4F"
      },
      "source": [
        "### Part (c) [3pt]\n",
        "Load 5 sample sentences from your regular mail and test it out out the two models you created. How well do they perform?"
      ]
    },
    {
      "cell_type": "code",
      "metadata": {
        "id": "0OvvnW8OWw4G",
        "colab": {
          "base_uri": "https://localhost:8080/"
        },
        "outputId": "275b9dc2-363f-4dca-ca51-ee42e0bfb89c"
      },
      "source": [
        "email6= \"Subject: deal # 502952 daren ,the above deal number expired at the end of november 2000 and needs to eitherbe extended through december , or a new deal inputted . can you assist me inthis ?thanks .mike\"\n",
        "\n",
        "#ULMFiT model\n",
        "# predict\n",
        "print(learn_classifier.predict(email6))\n",
        "\n",
        "# Part A model\n",
        "new_msg = get_new_msg(email6)\n",
        "\n",
        "out = torch.sigmoid(model3(new_msg.unsqueeze(0)))\n",
        "print(\"Spam Probability Distribution of message (No Spam , Spam):\",format(out))\n",
        "pred = out.max(1, keepdim=True)[1]\n",
        "\n",
        "print(pred)\n",
        "prediction = pred.item()\n",
        "if prediction > 0:\n",
        "  print(\"Spam Email\")\n",
        "else:\n",
        "  print(\"No Spam Email\")"
      ],
      "execution_count": null,
      "outputs": [
        {
          "output_type": "stream",
          "name": "stdout",
          "text": [
            "(Category tensor(0), tensor(0), tensor([0.6818, 0.3182]))\n",
            "Spam Probability Distribution of message (No Spam , Spam): tensor([[0.0030, 0.9988]], grad_fn=<SigmoidBackward0>)\n",
            "tensor([[1]])\n",
            "Spam Email\n"
          ]
        }
      ]
    },
    {
      "cell_type": "markdown",
      "metadata": {
        "id": "TRxvBqadPlNT"
      },
      "source": [
        "Transfer learning model predicted right, while custom model predicted wrong"
      ]
    },
    {
      "cell_type": "code",
      "metadata": {
        "id": "zyj4X5yF0O89",
        "colab": {
          "base_uri": "https://localhost:8080/"
        },
        "outputId": "6f8f9e98-7848-4fd8-d32e-72e8ebe11f24"
      },
      "source": [
        "email7= \"Subject: ehronline web address change this message is intended for ehronline users only . due to a recent change to ehronline , the url ( aka  web address  ) for accessing ehronline needs to be changed on your computer . the change involves adding the letter  s  to the  http  reference in the url . the url for accessing ehronline should be : https : / / ehronline . enron . com . this change should be made by those who have added the url as a favorite on the browser\"\n",
        "#ULMFiT model\n",
        "# predict\n",
        "print(learn_classifier.predict(email7))\n",
        "\n",
        "# Part A model\n",
        "new_msg = get_new_msg(email7)\n",
        "\n",
        "out = torch.sigmoid(model3(new_msg.unsqueeze(0)))\n",
        "print(\"Spam Probability Distribution of message (No Spam , Spam):\",format(out))\n",
        "pred = out.max(1, keepdim=True)[1]\n",
        "\n",
        "print(pred)\n",
        "prediction = pred.item()\n",
        "if prediction > 0:\n",
        "  print(\"Spam Email\")\n",
        "else:\n",
        "  print(\"No Spam Email\")"
      ],
      "execution_count": null,
      "outputs": [
        {
          "output_type": "stream",
          "name": "stdout",
          "text": [
            "(Category tensor(0), tensor(0), tensor([0.5029, 0.4971]))\n",
            "Spam Probability Distribution of message (No Spam , Spam): tensor([[4.4462e-04, 9.9979e-01]], grad_fn=<SigmoidBackward0>)\n",
            "tensor([[1]])\n",
            "Spam Email\n"
          ]
        }
      ]
    },
    {
      "cell_type": "markdown",
      "metadata": {
        "id": "y1R7OwXKPt-Q"
      },
      "source": [
        "Transfer learning model predicted right, while custom model predicted wrong"
      ]
    },
    {
      "cell_type": "code",
      "metadata": {
        "id": "fyU_VjBO0Pqi",
        "colab": {
          "base_uri": "https://localhost:8080/"
        },
        "outputId": "c54b5206-8e7e-43a4-92f9-a9e2d01f4872"
      },
      "source": [
        "email8= \"Subject: re : cornhusker john , i have a draft that i have been working on revising - - got pulled off to work on triple lutz again and may not have anything to distribute until late next week - - i will be out of the office on triple lutz the rest of today and tomorrow and then out of town until the 25 th - - i will try to get something to you to look at before i go but can make no guarantees - - sandi john griffith @ enron 10 / 17 / 2000 08 : 17 am to : sandi m braband / hou / ect @ ect cc : subject : cornhusker sandi , what is going on with cornhusker ? have we made any progress on the agreement ? please let me know where we stand . thanks . john\"\n",
        "\n",
        "#ULMFiT model\n",
        "# predict\n",
        "print(learn_classifier.predict(email8))\n",
        "\n",
        "# Part A model\n",
        "new_msg = get_new_msg(email8)\n",
        "\n",
        "out = torch.sigmoid(model3(new_msg.unsqueeze(0)))\n",
        "print(\"Spam Probability Distribution of message (No Spam , Spam):\",format(out))\n",
        "pred = out.max(1, keepdim=True)[1]\n",
        "\n",
        "print(pred)\n",
        "prediction = pred.item()\n",
        "if prediction > 0:\n",
        "  print(\"Spam Email\")\n",
        "else:\n",
        "  print(\"No Spam Email\")"
      ],
      "execution_count": null,
      "outputs": [
        {
          "output_type": "stream",
          "name": "stdout",
          "text": [
            "(Category tensor(0), tensor(0), tensor([0.9616, 0.0384]))\n",
            "Spam Probability Distribution of message (No Spam , Spam): tensor([[0.0033, 0.9986]], grad_fn=<SigmoidBackward0>)\n",
            "tensor([[1]])\n",
            "Spam Email\n"
          ]
        }
      ]
    },
    {
      "cell_type": "markdown",
      "metadata": {
        "id": "aaCElHF_PzRm"
      },
      "source": [
        "Transfer learning model predicted right, while custom model predicted wrong"
      ]
    },
    {
      "cell_type": "code",
      "metadata": {
        "id": "8yJzGhkc0O0I",
        "colab": {
          "base_uri": "https://localhost:8080/"
        },
        "outputId": "99c2d398-4f9a-4dc5-ac95-5745dfe11031"
      },
      "source": [
        "email9= \"Subject: notes from initial enom use case meeting - 2 / 2 / 00 attached are the notes captured from the whiteboard and discussions on wednesday ( as best as i can decipher ) . please note the next steps we discussed : commitment of key subject experts ( who , how much time dedicated ) establishment of the project steering team detail out high level use cases thanks for your participation in the meeting , and i look forward to working with you to create another great system . - hal x 66277\"\n",
        "\n",
        "#ULMFiT model\n",
        "# predict\n",
        "print(learn_classifier.predict(email9))\n",
        "\n",
        "# Part A model\n",
        "new_msg = get_new_msg(email9)\n",
        "\n",
        "out = torch.sigmoid(model3(new_msg.unsqueeze(0)))\n",
        "print(\"Spam Probability Distribution of message (No Spam , Spam):\",format(out))\n",
        "pred = out.max(1, keepdim=True)[1]\n",
        "\n",
        "print(pred)\n",
        "prediction = pred.item()\n",
        "if prediction > 0:\n",
        "  print(\"Spam Email\")\n",
        "else:\n",
        "  print(\"No Spam Email\")"
      ],
      "execution_count": null,
      "outputs": [
        {
          "output_type": "stream",
          "name": "stdout",
          "text": [
            "(Category tensor(0), tensor(0), tensor([0.7715, 0.2285]))\n",
            "Spam Probability Distribution of message (No Spam , Spam): tensor([[0.0029, 0.9987]], grad_fn=<SigmoidBackward0>)\n",
            "tensor([[1]])\n",
            "Spam Email\n"
          ]
        }
      ]
    },
    {
      "cell_type": "markdown",
      "metadata": {
        "id": "cluINm5jP0Tc"
      },
      "source": [
        "Transfer learning model predicted right, while custom model predicted wrong"
      ]
    },
    {
      "cell_type": "code",
      "metadata": {
        "id": "4E6evZL20OwL",
        "colab": {
          "base_uri": "https://localhost:8080/"
        },
        "outputId": "5b43f85b-bf55-4b24-edd1-7a5bea4e3638"
      },
      "source": [
        "email10= \"Subject: copanno changes - - - - - - - - - - - - - - - - - - - - - - forwarded by ami chokshi / corp / enron on 01 / 28 / 2000 10 : 58 am - - - - - - - - - - - - - - - - - - - - - - - - - - - troy _ a _ benoit @ reliantenergy . com on 01 / 28 / 2000 10 : 53 : 30 am to : ami chokshi / corp / enron @ enron cc : subject : copanno changes ( see attached file : hpl - jan . xls ) - hpl - jan . xls \"\n",
        "#ULMFiT model\n",
        "# predict\n",
        "print(learn_classifier.predict(email10))\n",
        "\n",
        "# Part A model\n",
        "new_msg = get_new_msg(email10)\n",
        "\n",
        "out = torch.sigmoid(model3(new_msg.unsqueeze(0)))\n",
        "print(\"Spam Probability Distribution of message (No Spam , Spam):\",format(out))\n",
        "pred = out.max(1, keepdim=True)[1]\n",
        "\n",
        "print(pred)\n",
        "prediction = pred.item()\n",
        "if prediction > 0:\n",
        "  print(\"Spam Email\")\n",
        "else:\n",
        "  print(\"No Spam Email\")"
      ],
      "execution_count": null,
      "outputs": [
        {
          "output_type": "stream",
          "name": "stdout",
          "text": [
            "(Category tensor(1), tensor(1), tensor([0.3743, 0.6257]))\n",
            "Spam Probability Distribution of message (No Spam , Spam): tensor([[0.0046, 0.9981]], grad_fn=<SigmoidBackward0>)\n",
            "tensor([[1]])\n",
            "Spam Email\n"
          ]
        }
      ]
    },
    {
      "cell_type": "markdown",
      "metadata": {
        "id": "lCi6igfvP10q"
      },
      "source": [
        "Both models predicted wrong"
      ]
    },
    {
      "cell_type": "markdown",
      "metadata": {
        "id": "FYwI4RmFS2RB"
      },
      "source": [
        "### Saving to HTML\n",
        "Detailed instructions for saving to HTML can be found <a href=\"https://stackoverflow.com/questions/53460051/convert-ipynb-notebook-to-html-in-google-colab/64487858#64487858\">here</a>. Provided below are a summary of the instructions:\n",
        "\n",
        "(1) download your ipynb file by clicking on File->Download.ipynb\n",
        "\n",
        "(2) reupload your file to the temporary Google Colab storage (you can access the temporary storage from the tab to the left)\n",
        "\n",
        "(3) run the following:"
      ]
    },
    {
      "cell_type": "code",
      "metadata": {
        "id": "2TrsqdNgS5ex",
        "colab": {
          "base_uri": "https://localhost:8080/"
        },
        "outputId": "eb0de323-351d-4403-b69e-aedd533283b5"
      },
      "source": [
        "%%shell\n",
        "jupyter nbconvert --to html /content/sample_data/LAB_4_Sequential_Data.ipynb"
      ],
      "execution_count": 1,
      "outputs": [
        {
          "output_type": "stream",
          "name": "stdout",
          "text": [
            "[NbConvertApp] Converting notebook /content/sample_data/LAB_4_Sequential_Data.ipynb to html\n",
            "[NbConvertApp] Writing 1188936 bytes to /content/sample_data/LAB_4_Sequential_Data.html\n"
          ]
        },
        {
          "output_type": "execute_result",
          "data": {
            "text/plain": [
              ""
            ]
          },
          "metadata": {},
          "execution_count": 1
        }
      ]
    },
    {
      "cell_type": "markdown",
      "metadata": {
        "id": "nuXhlFlPTY7F"
      },
      "source": [
        "(4) the html file will be available for download in the temporary Google Colab storage\n",
        "\n",
        "(5) review the html file and make sure all the results are visible before submitting your assignment to Quercus"
      ]
    }
  ]
}